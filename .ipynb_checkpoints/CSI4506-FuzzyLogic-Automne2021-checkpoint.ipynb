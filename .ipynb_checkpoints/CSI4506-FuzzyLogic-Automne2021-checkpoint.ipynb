{
 "cells": [
  {
   "cell_type": "markdown",
   "metadata": {},
   "source": [
    "# Notebook 1 - Logique floue"
   ]
  },
  {
   "cell_type": "markdown",
   "metadata": {},
   "source": [
    "CSI4506 Introduction à l'Intelligence Artificielle\n",
    "Automne 2021  \n",
    "Version 1 préparée par Julian Templeton et Joel Muteba (2020).  Version 2 préparée Caroline Barrière (2021).  "
   ]
  },
  {
   "cell_type": "markdown",
   "metadata": {},
   "source": [
    "***INTRODUCTION***:   \n",
    "   \n",
    "Dans ce Notebook, vous définirez un système de logique floue qui aidera quelqu'un à décider de la durée d'une balade à vélo. La durée dépendra du jour de la semaine et du degré d'occupation de la personne. Les règles floues que nous allons définir dans notre système de logique floue s'appliqueront sur deux antécédents possibles (deux variables linguistiques) *Day* et *Busy* et auront un conséquent (également une variable linguistique) *Biking*. Un aperçu est présenté ci-dessous.\n",
    "\n",
    "![System Overview](Image1.png)\n",
    "   \n",
    "En explorant tous les composants de base d’un système de logique flou pour résoudre un problème, vous améliorerez votre compréhension de la façon dont la logique floue peut être appliquée aux problèmes du monde réel et comment chaque composant d’un système logique flou fonctionne.    \n",
    "\n",
    "Une note importante à garder à l’esprit lorsque vous passerez au travers de ce Notebook est qu’il y a des classes avec une quantité importante de code, mais vous aurez seulement besoin d'**utiliser les fonctions de la classe LinguisticVariable**. Ainsi, ne soyez pas intimidé par la quantité de lignes de codes puisque vous aurez juste besoin d’appeler les fonctions appropriées quand cela sera nécessaire.    \n",
    "\n",
    "La bibliothèque *matplotlib* sera utilisée pour ce notebook. C'est une excellente bibliothèque graphique. La bibliothèque vous permet de créer de nombreux types de graphes à partir de vos données et de les personnaliser. Pour installer matplotlib, exécutez la commande suivante dans votre console : *pip install matplotlib*"
   ]
  },
  {
   "cell_type": "markdown",
   "metadata": {},
   "source": [
    "***TRAVAIL À FAIRE***:  \n",
    "\n",
    "Parcourez le notebook en exécutant chaque cellule, une à la fois. Si l'exécution d'une cellule cause une erreur, vous pouvez résoudre le problème et ré-exécuter cette cellule.  \n",
    "Recherchez **(TO DO)** pour les tâches que vous devez effectuer. Une fois que vous avez terminé, soumettez votre notebook. N'oubliez pas d'y inclure votre nom et numéro d'étudiant(e) au bas. Aussi, n'oubliez pas de RENOMMER votre fichier pour le personaliser *NuméroEtudiant-NomFamille-Notebook-1.ipynb*\n",
    "\n",
    "*Le notebook sera noté sur 20.  \n",
    "Chaque **(TO DO)** a un certain nombre de points qui lui sont associés.*\n",
    "***"
   ]
  },
  {
   "cell_type": "code",
   "execution_count": null,
   "metadata": {},
   "outputs": [],
   "source": [
    "# Imports\n",
    "# Call pip install matplotlib in the console to install this library\n",
    "import matplotlib.pyplot as plt"
   ]
  },
  {
   "cell_type": "markdown",
   "metadata": {},
   "source": [
    "**1. Définition d'une variable linguistique.**    \n",
    "\n",
    "Une variable linguistique est représentée par son nom, ses valeurs possibles et ses sous-ensembles flous. Cela peut être représenté par un triplet (V, X, T). Les classes ci-dessous définissent chaque composante d’une variable linguistique. Le constructeur de la classe LinguisticVariable accepte son nom (V du triplet) et les noms des valeurs associées à la variable sous la forme d’une liste (X du triplet). Les sous-ensembles flous (T dans le triplet) sont ajoutés après la définition de la variable linguistique.     \n",
    "\n",
    "Une note importante au sujet de cette classe est que les valeurs possibles qui sont transmises à l’objet LinguisticVariable peuvent être de deux types :\n",
    "1. [name1, name2, name3, ..., nameN], où chaque nom est une valeur discrète associée à la variable et les noms sont tous des strings\n",
    "2. [(num1, num2]], où num1 et num2 sont des entiers qui représentent un intervalle continu de nombres réels sous la forme d’un tuplet     \n",
    "\n",
    "Ces valeurs possibles sont stockées dans la liste possible_values de la classe LinguisticVariable et sont ensuite transmises à la liste value_names de la classe Values.    \n",
    "\n",
    "Une autre remarque est que la classe Values stocke une liste d’équations mathématiques sous la variable *function*. Il s’agit d’une liste d’expressions lambda qui exécutent des fonctions mathématiques. Cette liste de fonctions doit avoir la même longueur que la liste des value_names. Cela permet à la liste value_names et à la liste des fonctions de contenir les informations associées dans le même index.\n",
    "\n",
    "Ex: value_names[0] --> Mardi\n",
    "    functions[0] --> lambda x: 0.0\n",
    "    Par conséquent, lorsque nous voulons trouver la valeur floue pour le mardi à une certaine valeur x, nous appelons functions[0] (x) pour obtenir cette valeur          \n",
    "    \n",
    "La classe FuzzySubset contient de nombreuses fonctionnalités de base qui seront utilisés dans le notebook. Toutefois, vous n’aurez qu’à appeler des fonctions de la classe LinguisticVariable pour éviter la manipulation d’éléments enfants."
   ]
  },
  {
   "cell_type": "code",
   "execution_count": null,
   "metadata": {},
   "outputs": [],
   "source": [
    "# *****************************************\n",
    "# DO NOT MAKE ANY CHANGES TO THIS CLASS\n",
    "# You will be asked to call the methods of this class, but NOT to change it\n",
    "# *****************************************\n",
    "\n",
    "class LinguisticVariable():\n",
    "    '''\n",
    "    Represents a linguistic variable that contains a name, a set of values for this variable,\n",
    "    and fuzzy subsets for the values that are used to characterise this variable.\n",
    "    '''\n",
    "    def __init__(self, variable_name, values):\n",
    "        # The name of a variable\n",
    "        self.variable_name = variable_name\n",
    "        # A list of all value names\n",
    "        self.possible_values = values\n",
    "        # The fuzzy suvbsets that characterize variable_name\n",
    "        self.fuzzy_subsets = []\n",
    "        \n",
    "    def add_fuzzy_subset(self, name, functions):\n",
    "        '''\n",
    "        Defines a fuzzy_subset of the specified name and defines functions\n",
    "        for each value pass into the constructor.\n",
    "        The functions are expected to be in the same order as the values that they are for.\n",
    "        Ex: [val1, val2, ...], [function_for_val1, function_for_val2, ...]\n",
    "        '''\n",
    "        self.fuzzy_subsets.append(FuzzySubset(name, self.possible_values, functions))\n",
    "        \n",
    "    def fuzzification(self, fs_name, x):\n",
    "        '''\n",
    "        Finds the fuzzy subset with the specified name (fs_name) and fuzzifies the value x\n",
    "        '''\n",
    "        fs_index = [fs.name.lower() for fs in self.fuzzy_subsets].index(fs_name.lower()) \n",
    "        return self.fuzzy_subsets[fs_index].fuzzification(x)\n",
    "    \n",
    "    def defuzzification_average_maximas(self, fs_name):\n",
    "        '''\n",
    "        By going through each value (increments of 0.5 for continuous variables), returns the average\n",
    "        x-location for the defuzzification of the transfered membership max_membership\n",
    "        '''\n",
    "        fs_index = [fs.name.lower() for fs in self.fuzzy_subsets].index(fs_name.lower())\n",
    "        return self.fuzzy_subsets[fs_index].defuzzification_average_maximas()\n",
    "    \n",
    "    def get_fuzzy_maximum(self, fs_name):\n",
    "        '''\n",
    "        Finds the fuzzy subset with the specified name (fs_name) and returns its maximum\n",
    "        membership degree.\n",
    "        '''\n",
    "        fs_index = [fs.name.lower() for fs in self.fuzzy_subsets].index(fs_name.lower()) \n",
    "        # Return its maximum membership\n",
    "        return self.fuzzy_subsets[fs_index].max_membership\n",
    "    \n",
    "    def set_fuzzy_maximum(self, fs_name, x):\n",
    "        '''\n",
    "        Finds the fuzzy subset with the specified name (fs_name) and assigns x to be its maximum\n",
    "        membership degree (transfers the membership to this fuzzy subset).\n",
    "        '''\n",
    "        fs_index = [fs.name.lower() for fs in self.fuzzy_subsets].index(fs_name.lower()) \n",
    "        # Since max_membership is already set to the maximum available y value, only update if\n",
    "        # x is < the current value.\n",
    "        if (x < self.fuzzy_subsets[fs_index].max_membership):\n",
    "            self.fuzzy_subsets[fs_index].max_membership = x\n",
    "        \n",
    "    def reset_fuzzy_maximums(self):\n",
    "        '''\n",
    "        When a problem is complete, this will reset the maximum_membership values\n",
    "        for all fuzzy variables back to the maxima in its function\n",
    "        '''\n",
    "        for fs in self.fuzzy_subsets:\n",
    "            if (fs.values.isRangedVariable):\n",
    "                fs.max_membership = self.reset_fuzzy_maximum_ranged(fs)\n",
    "            else:\n",
    "                fs.max_membership = self.reset_fuzzy_maximum_discrete(fs)\n",
    "            \n",
    "    def reset_fuzzy_maximum_discrete(self, fs):\n",
    "        '''\n",
    "        Returns the maxima for a fs that describes discrete variable\n",
    "        '''\n",
    "        vals = [] # The values for each value\n",
    "        # Go through the values associated with the fuzzy subset\n",
    "        for value in fs.values.value_names:\n",
    "            vals.append(fs.fuzzification(value))\n",
    "        # Set the variable's fuzzy subset maximum to be the maximum value in the plot\n",
    "        return max(vals)\n",
    "        \n",
    "    def reset_fuzzy_maximum_ranged(self, fs):\n",
    "        '''\n",
    "        Returns the maxima for a fs that describes a range of real numbers\n",
    "        '''\n",
    "        for fs in self.fuzzy_subsets:\n",
    "            vals = []\n",
    "            # Determine the number of points to compute\n",
    "            start = fs.values.value_names[0][0]\n",
    "            stop = fs.values.value_names[0][1] + 1\n",
    "            # Compute the points and store them\n",
    "            # Increment by 0.05 to capture most changes\n",
    "            for i in range(start, stop):\n",
    "                # Can use libraries to make this easier, that is somthing we will explore in future notebooks\n",
    "                for j in range(0, 20):\n",
    "                    x = i + j * 0.05\n",
    "                    vals.append(fs.fuzzification(x))\n",
    "            # Set the variable's fuzzy subset maximum to be the maximum value in the plot\n",
    "            return max(vals)\n",
    "        \n",
    "    def plot(self):\n",
    "        '''\n",
    "        Plots a linguistic variable and automatically detects the type of values that\n",
    "        it contains\n",
    "        '''\n",
    "        if (self.fuzzy_subsets[0].values.isRangedVariable):\n",
    "            self.plot_ranged_variable()\n",
    "        else:\n",
    "            self.plot_discrete_variable()\n",
    "    \n",
    "    def plot_discrete_variable(self):\n",
    "        '''\n",
    "        Plots the linguistic variable if the values are discrete\n",
    "        '''\n",
    "        fig = plt.figure()\n",
    "        axes = fig.add_axes([0, 0, 1, 1])\n",
    "        x_vals = [] # The lavels on the x-axis\n",
    "        plot_values = [] # The values for each value\n",
    "        y_label = \"Variable \" + self.variable_name\n",
    "        # Go through the fuzzy subsets (only one in this notebook)\n",
    "        fs = self.fuzzy_subsets[0]\n",
    "        # Go through the values associated with the fuzzy subset\n",
    "        for value in fs.values.value_names:\n",
    "            x_vals.append(value)\n",
    "            plot_values.append(fs.fuzzification(value))\n",
    "        # Set the variable's fuzzy subset maximum to be the maximum value in the plot\n",
    "        self.fuzzy_subsets[0].max_membership = max(plot_values)\n",
    "        # Add the values to the plot\n",
    "        axes.bar(x_vals, plot_values)\n",
    "        # Show the plot\n",
    "        plt.show()\n",
    "    \n",
    "    def plot_ranged_variable(self):\n",
    "        '''\n",
    "        Plots the linguistic variable if the values are a range\n",
    "        '''\n",
    "        x_label = \"Number of hours\" # Fixed in this notebook, otherwise would add to the tuple\n",
    "        y_label = \"Variable \" + self.variable_name\n",
    "        for fs in self.fuzzy_subsets:\n",
    "            x_points = []\n",
    "            y_points = []\n",
    "            # Determine the number of points to compute\n",
    "            start = fs.values.value_names[0][0]\n",
    "            stop = fs.values.value_names[0][1] + 1\n",
    "            # Compute the points and store them\n",
    "            # Increment by 0.05 to capture most changes\n",
    "            for i in range(start, stop):\n",
    "                # Can use libraries to make this easier, that is somthing we will explore in future notebooks\n",
    "                for j in range(0, 20):\n",
    "                    x = i + j * 0.05\n",
    "                    x_points.append(x)\n",
    "                    y_points.append(fs.fuzzification(x))\n",
    "            # Set the variable's fuzzy subset maximum to be the maximum value in the plot\n",
    "            fs.max_membership = max(y_points)\n",
    "            # Add the points to the plot\n",
    "            plt.plot(x_points, y_points, label=fs.name)\n",
    "        # Add the labels\n",
    "        plt.xlabel(x_label)\n",
    "        plt.ylabel(y_label)\n",
    "        # Define the limits of the plot\n",
    "        axes = plt.gca()\n",
    "        axes.set_xlim([self.fuzzy_subsets[0].values.value_names[0][0], self.fuzzy_subsets[0].values.value_names[0][1]])\n",
    "        axes.set_ylim(0, 1.1)\n",
    "        # Add a grid to the plot\n",
    "        plt.grid()\n",
    "        # Add a legend to the plot\n",
    "        plt.legend()\n",
    "        # Show the plot\n",
    "        plt.show()"
   ]
  },
  {
   "cell_type": "code",
   "execution_count": null,
   "metadata": {},
   "outputs": [],
   "source": [
    "# *****************************************\n",
    "# DO NOT MAKE ANY CHANGES TO THIS CLASS\n",
    "# This class is used by the LinguisticVariable class.  You will NOT make any calls to this class.\n",
    "# *****************************************\n",
    "\n",
    "class Values():\n",
    "    '''\n",
    "    Stores the names of the values and a list of functions that describe the value for a fuzzy subset.\n",
    "    values: A list of the names of the values. If a numerical range, the list will only contain\n",
    "            a tuple of the form [(num1, num2)] to represent the range between num1 and num2.\n",
    "            Otherwise it will be of the form [name1, name2, ..., nameN].\n",
    "            Assumes that discrete items are strings (so if a number, store as a string)\n",
    "    '''\n",
    "    def __init__(self, value_names, functions):\n",
    "        # True if the first element is a tuple of two integers (num1, num2)\n",
    "        self.isRangedVariable = False\n",
    "        if type(value_names[0]) is tuple:\n",
    "            self.isRangedVariable = True\n",
    "        # The names or range of the values\n",
    "        self.value_names = value_names\n",
    "        # The functions used to compute values for each value (if range, an equation)\n",
    "        # The index is the same as the value index\n",
    "        self.functions = functions"
   ]
  },
  {
   "cell_type": "code",
   "execution_count": null,
   "metadata": {},
   "outputs": [],
   "source": [
    "# *****************************************\n",
    "# DO NOT MAKE ANY CHANGES TO THIS CLASS\n",
    "# This class is used by the LinguisticVariable class.  You will NOT make any calls to this class.\n",
    "# *****************************************\n",
    "\n",
    "class FuzzySubset():\n",
    "    '''\n",
    "    Represents a single fuzzy subset.\n",
    "    Accepts a name, list of values, and list of lambda equations as input.\n",
    "    The values are stored as a Values object which also contain the functions that the\n",
    "    fuzzy subset maps to each value.\n",
    "    The max_membership parameter represents the maximum membership value that can be given\n",
    "    at a given point in time.\n",
    "    '''\n",
    "    def __init__(self, name, values, functions):\n",
    "        self.name = name\n",
    "        self.values = Values(values, functions)\n",
    "        self.max_membership = 1\n",
    "        \n",
    "    def fuzzification(self, x):\n",
    "        '''\n",
    "        Returns the membership value for the value x\n",
    "        x: The value to be used\n",
    "        '''\n",
    "        membership = -1\n",
    "        if self.values.isRangedVariable:\n",
    "            # If a range, then x is the value within the range\n",
    "            membership = self.values.functions[0](x)\n",
    "        else:\n",
    "            # If not a range, then x represents the index for the appropriate value\n",
    "            value_index = [val.lower() for val in self.values.value_names].index(x.lower()) \n",
    "            membership = self.values.functions[value_index](0)\n",
    "        return membership\n",
    "    \n",
    "    def defuzzification_average_maximas(self):\n",
    "        '''\n",
    "        Using the max_membership value, finds all values >= that value since they are the\n",
    "        maximas after the transferring of membership degree.\n",
    "        Loops through all key points in the plot (since it can be a continuous value) and\n",
    "        averages the x values that are >= max_membership\n",
    "        '''\n",
    "        x_points = []\n",
    "        # Determine the number of points to compute\n",
    "        start = self.values.value_names[0][0]\n",
    "        stop = self.values.value_names[0][1] + 1\n",
    "        # Compute the points and store all maxima x-values\n",
    "        # Increment by 0.05 to capture most changes\n",
    "        for i in range(start, stop):\n",
    "            # Can use libraries to make this easier, that is somthing we will explore in future notebooks\n",
    "            for j in range(0, 20):\n",
    "                x = i + j * 0.05\n",
    "                # Store only if the y-value is a maxima\n",
    "                if self.fuzzification(x) >= self.max_membership:\n",
    "                    x_points.append(x)\n",
    "        # Return the average of all x-values\n",
    "        return sum(x_points) / len(x_points)"
   ]
  },
  {
   "cell_type": "markdown",
   "metadata": {},
   "source": [
    "**2. Création des objets LinguisticVariable.**\n",
    "\n",
    "Avec les définitions de classe ci-dessus, nous sommes maintenant en mesure de définir les trois différentes variables linguistiques qui seront utilisées dans ce notebook.   \n",
    "1. *Day*: Les valeurs sont les jours de la semaine et il n’y a qu’un seul fuzzy_subset (sous-ensemble flou) nommé *Weekend*. \n",
    "2. *Busy*: Les valeurs sont des nombres réels dans l'intervalle [0, 10], représentant le nombre d’heures d'occupation et il y a trois sous-ensembles flous {Little, Moderate, Very}. \n",
    "3. *Biking*: Les valeurs sont des nombres réels dans l'intervalle[0, 100], représentant le nombre de kilomètres et il y a quatre sous-ensembles flous {Short, Average, Long, Extended}. \n",
    "\n",
    "Lorsque nous définirons plus tard les règles floues de notre système, *Day* et *Busy* seront utilisés comme antécédents et *Biking* sera utilisé en conséquence (vous pouvez vous référer au schéma dans la section Introduction)."
   ]
  },
  {
   "cell_type": "markdown",
   "metadata": {},
   "source": [
    "La première variable linguistique, nommée *Day*, permettra de décrire un jour. Ci-dessous, vous avez toutes les étapes pour définir la variable (son nom, ses valeurs et les fonctions pour établir le degré d'appartenance à l'ensemble flou Weekend pour chaque valeur définie)."
   ]
  },
  {
   "cell_type": "code",
   "execution_count": null,
   "metadata": {},
   "outputs": [],
   "source": [
    "# Start by defining the values (each day of the week)\n",
    "day_values = [\"Sunday\", \"Monday\", \"Tuesday\", \"Wednesday\", \"Thursday\", \"Friday\", \"Saturday\"]\n",
    "# Define the Day linguistic variable\n",
    "day_lv = LinguisticVariable(\"Day\", day_values)\n",
    "# Begin defining the functions for the Weekend fuzzy subset (a function for each value)\n",
    "day_functions = []\n",
    "# For Sunday\n",
    "day_functions.append(lambda x: 0.95)\n",
    "# For Monday\n",
    "day_functions.append(lambda x: 0.0)\n",
    "# For Tuesday\n",
    "day_functions.append(lambda x: 0.0)\n",
    "# For Wednesday\n",
    "day_functions.append(lambda x: 0.0)\n",
    "# For Thursday\n",
    "day_functions.append(lambda x: 0.3)\n",
    "# TODO: See (TODO) Q1 below\n",
    "# For Friday\n",
    "day_functions.append(lambda x: 0.5) # initial value provided\n",
    "# For Saturday\n",
    "day_functions.append(lambda x: 1.0)\n",
    "# Setup the Weekend fuzzy element in the linguistic variable\n",
    "day_lv.add_fuzzy_subset(\"Weekend\", day_functions)"
   ]
  },
  {
   "cell_type": "code",
   "execution_count": null,
   "metadata": {},
   "outputs": [],
   "source": [
    "# Show the value for Thursday\n",
    "chosenDay = \"Thursday\"\n",
    "# For the first fuzzy subset (weekend), what is the membership of Thursday?\n",
    "chosenDayMembership = day_lv.fuzzy_subsets[0].fuzzification(\"Thursday\")\n",
    "print(\"The Weekend membership for the value \" + chosenDay + \" is \" + str(chosenDayMembership))"
   ]
  },
  {
   "cell_type": "markdown",
   "metadata": {},
   "source": [
    "Avec la variable linguistique *day_lv* définie, nous allons la tracer pour voir le graphique"
   ]
  },
  {
   "cell_type": "code",
   "execution_count": null,
   "metadata": {},
   "outputs": [],
   "source": [
    "# Plot the linguistic variable\n",
    "day_lv.plot()"
   ]
  },
  {
   "cell_type": "markdown",
   "metadata": {},
   "source": [
    "***\n",
    "**(TO DO) Q1 - 1 point**  \n",
    "\n",
    "Dans day_lv vous voyez que le vendredi est considéré comme week-end à 0,5 (degré d'appartenance à Weekend défini plus haut).  C’est trop bas, puisque vendredi est proche du week-end.  Modifiez le code ci-dessus (et réexécutez la cellule) pour que le vendredi ait un degré d'appartenance à WeekEnd à 0,75\n",
    "***"
   ]
  },
  {
   "cell_type": "markdown",
   "metadata": {},
   "source": [
    "***\n",
    "**(TO DO) Q2 - 3 points**  \n",
    "Avec *day_lv* défini, nous devons maintenant définir *busy_lv* pour la variable linguistique *Busy*. En suivant les modèles de code ci-dessous, continuez la définition de busy_lv.   \n",
    "\n",
    "Rappelez-vous que selon la description définie au début de la section 2, cette variable utilise une valeur continue dans un intervalle. Ces values_names sont définis par un seul tuple d’entiers [(num1, num2)] plutôt qu’une liste de strings.\n",
    "\n",
    "La figure suivante (*Image 2*) montre à quoi doit ressembler le graphe de la variable linguistique Busy lorsque vous exécutez la cellule suivante. Vous devrez compléter la définition de busy_lv en trouvant la fonction correcte à passer pour le sous-ensemble flou *Very*. Des exemples de la façon dont ces équations mathématiques sont définis ci-dessous (les expressions lambda).\n",
    "\n",
    "![Busy](Image2.png)\n",
    "***"
   ]
  },
  {
   "cell_type": "code",
   "execution_count": null,
   "metadata": {},
   "outputs": [],
   "source": [
    "# Define the Busy linguistic variable\n",
    "busy_values = [(0, 10)]\n",
    "# TODO: Define the linguistic variable busy_lv (in a previous cell, day_lv was defined, you can get inspired there)\n",
    "busy_lv = LinguisticVariable(..., ...)\n",
    "busy_functions = []\n",
    "\n",
    "# Define functions for the Little fuzzy set\n",
    "busy_functions = [lambda x: -x+3 if 2<=x<=3 else (1 if 0<=x<=2 else 0)]\n",
    "# Setup the Little fuzzy element\n",
    "busy_lv.add_fuzzy_subset(\"Little\", busy_functions)\n",
    "\n",
    "# Define functions for the Moderate fuzzy set\n",
    "busy_functions = [lambda x: (x-2)/2 if 2<=x<=4 else ((-x+7)/2 if 5<=x<=7 else (1 if 4<=x<=5 else 0))]\n",
    "# Setup the Moderate fuzzy element\n",
    "busy_lv.add_fuzzy_subset(\"Moderate\", busy_functions)\n",
    "\n",
    "# TODO: Setup the Very busy function and add that fuzzy set\n",
    "# Define functions for the Very fuzzy set\n",
    "busy_functions = ...\n",
    "# Setup the Very fuzzy element\n",
    "busy_lv.add_fuzzy_subset(...)\n",
    "\n",
    "# Show an example output\n",
    "print(busy_lv.fuzzy_subsets[0].values.value_names[0])\n",
    "busy_lv.fuzzy_subsets[0].values.functions[0]\n",
    "\n",
    "# Plot the graph\n",
    "busy_lv.plot()"
   ]
  },
  {
   "cell_type": "markdown",
   "metadata": {},
   "source": [
    "***\n",
    "**(TO DO) Q3 - 3 points**  \n",
    "Maintenant que nous avons défini les variables linguistiques Day et Busy, vous définirez la variable linguistique Biking (biking_lv). Cette variable contient quatre sous-ensembles flous: Short, Average, Long, Extended. Les valeurs de cette variable sont des nombres réels dans l'intervalle [0, 100] correspondant au nombre de kilomètres de vélo.\n",
    "\n",
    "Vous trouverez ci-dessous un graphique (*Image 3*) de ce à quoi la variable doit ressembler après l'exécution de la cellule ci-dessous. Vous devez définir les fonctions des différents sous-ensembles pour qu'elles correspondent au graphique ci-dessous.\n",
    "\n",
    "![Biking](Image3.png)\n",
    "***"
   ]
  },
  {
   "cell_type": "code",
   "execution_count": null,
   "metadata": {},
   "outputs": [],
   "source": [
    "# TODO: Instantiate the Biking linguistic variable\n",
    "# Define the Biking linguistic variable\n",
    "biking_values = ...\n",
    "biking_lv = ...\n",
    "biking_functions = []\n",
    "\n",
    "# TODO: Define the function for the Short fuzzy set\n",
    "biking_functions = ...\n",
    "biking_lv.add_fuzzy_subset(\"Short\", biking_functions)\n",
    "\n",
    "# TODO: Define functions for the Average fuzzy set\n",
    "biking_functions = ...\n",
    "biking_lv.add_fuzzy_subset(\"Average\", biking_functions)\n",
    "\n",
    "biking_functions = [lambda x: (x-40)/25 if 40<=x<=65 else ((-x+70)/5 if 65<=x<=70 else 0)]\n",
    "# Setup the Long fuzzy element\n",
    "biking_lv.add_fuzzy_subset(\"Long\", biking_functions)\n",
    "\n",
    "biking_functions = [lambda x: (x-60)/25 if 60<=x<=85 else ((-x+90)/5 if 85<=x<=90 else 0)]\n",
    "# Setup the Extended fuzzy element\n",
    "biking_lv.add_fuzzy_subset(\"Extended\", biking_functions)\n"
   ]
  },
  {
   "cell_type": "code",
   "execution_count": null,
   "metadata": {},
   "outputs": [],
   "source": [
    "# Show an example output\n",
    "print(biking_lv.fuzzy_subsets[0].values.value_names[0])\n",
    "biking_lv.fuzzy_subsets[1].values.functions[0]\n",
    "\n",
    "# Plot the graph\n",
    "biking_lv.plot()"
   ]
  },
  {
   "cell_type": "markdown",
   "metadata": {},
   "source": [
    " Nous allons maintenant tracer tous les graphiques à nouveau pour voir les variables linguistiques."
   ]
  },
  {
   "cell_type": "code",
   "execution_count": null,
   "metadata": {},
   "outputs": [],
   "source": [
    "# Plot everything with matplot\n",
    "day_lv.plot()\n",
    "busy_lv.plot()\n",
    "biking_lv.plot()"
   ]
  },
  {
   "cell_type": "markdown",
   "metadata": {},
   "source": [
    "**3. Définition des règles floues if-then.**  \n",
    "\n",
    "Maintenant que les variables linguistiques ont été définies, les règles floues if-then (qui seront simplement appelées règles) peuvent être définies pour être utilisées lors du raisonnement. Ces règles peuvent être définies avec les opérateurs flous *NOT*, *AND*, et *OR*. Les règles définies dans cette section seront utilisées ultérieurement avec les fonctions *NOT*, *AND* et *OR* qui seront aussi complétées dans cette section."
   ]
  },
  {
   "cell_type": "markdown",
   "metadata": {},
   "source": [
    "Voici les trois règles qui sont définies pour établir la relation entre les antécédents et la conséquence.  Notez que ces règles sont écrites en langage naturel et utilisent les sous-ensembles flous des différentes variables linguistiques.    \n",
    "***\n",
    "*Rule 1* - IF it is the *Weekend* AND I am *Very Busy*, THEN I will do an *Average* bike ride.     \n",
    "*Rule 2* - IF it is the *Weekend* AND (I am a *Little Busy* OR I am *Moderately Busy*), THEN I will do a *Long* bike ride.  \n",
    "*Rule 3* - IF is is NOT the *Weekend* OR I am *Very Busy*, THEN I will do a *Short* bike ride.\n",
    "***"
   ]
  },
  {
   "cell_type": "markdown",
   "metadata": {},
   "source": [
    "**(TO DO) Q4 - 1 point**  \n",
    "\n",
    "Dans cette cellule, définissez une règle 4 en langage naturel comme étant une règle de votre choix qui aurait pour conséquence la balade à vélo *Extended*. (nous n'utiliserons pas cette règle plus tard, c'est juste pour s'entraîner)."
   ]
  },
  {
   "cell_type": "markdown",
   "metadata": {},
   "source": [
    "***        \n",
    "*Rule 4* - ... \n",
    "\n",
    "***"
   ]
  },
  {
   "cell_type": "markdown",
   "metadata": {},
   "source": [
    "Ensuite, les opérateurs de logique floue doivent tous être implémentés. La fonction (complète) *fuzzy_NOT* suivante est fournie comme exemple."
   ]
  },
  {
   "cell_type": "code",
   "execution_count": null,
   "metadata": {},
   "outputs": [],
   "source": [
    "def fuzzy_NOT(num):\n",
    "    '''\n",
    "    Provides the returned result for the fuzzy logic NOT operator.\n",
    "    num: The membership value\n",
    "    returns the numerical fuzzy_NOT operator's result when applied on num rounded to\n",
    "        the second decimal place (due to floating point imprecisions)\n",
    "    '''\n",
    "    return round(1 - num, 2) "
   ]
  },
  {
   "cell_type": "markdown",
   "metadata": {},
   "source": [
    "***\n",
    "**(TO DO) Q5 - 2 points**  \n",
    "\n",
    "Dans les deux cellules ci-dessous, complétez les définitions des fonctions fuzzy_OR et fuzzy_AND. Pour plus de détails sur ces fonctions, consultez vos notes de cours.\n",
    "***"
   ]
  },
  {
   "cell_type": "code",
   "execution_count": null,
   "metadata": {},
   "outputs": [],
   "source": [
    "# TODO: Complete the function\n",
    "def fuzzy_OR(...):\n",
    "    '''\n",
    "    Provides the returned result for the fuzzy logic OR operator.\n",
    "    num1: The first membership value\n",
    "    num2: The second membership value\n",
    "    returns the numerical fuzzy_OR operator's result when applied on num1 and num2 rounded to\n",
    "        the second decimal place (due to floating point imprecisions)\n",
    "    '''\n",
    "   return ..."
   ]
  },
  {
   "cell_type": "code",
   "execution_count": null,
   "metadata": {},
   "outputs": [],
   "source": [
    "# TODO: Complete the function\n",
    "def fuzzy_AND(...):\n",
    "    '''\n",
    "    Provides the returned result for the fuzzy logic AND operator.\n",
    "    '''\n",
    "   return ..."
   ]
  },
  {
   "cell_type": "markdown",
   "metadata": {},
   "source": [
    "**4. Fuzzification.**  \n",
    "La première étape pour résoudre un problème est d’effectuer la *fuzzification*. Ce processus a déjà été programmé pour vous dans la classe LinguisticVariable. Cette fonction *.fuzzification(fs_name, x)* nécessite le nom du sous-ensemble flou et la valeur pour laquelle vous souhaitez obtenir le degré d'appartenance à ce sous-ensemble flou."
   ]
  },
  {
   "cell_type": "markdown",
   "metadata": {},
   "source": [
    "Jetons un coup d’œil à l’exemple de fuzzification suivant. Ceci fuzzifie l’instruction suivante:  \n",
    "*It is Thursday and I have 2.5 hours of work to do.*"
   ]
  },
  {
   "cell_type": "code",
   "execution_count": null,
   "metadata": {},
   "outputs": [],
   "source": [
    "print(\"It is Thursday and this first module will take me 2.5 hours to do.\")\n",
    "# The first value is Thursday, so we will get the membership of weekend for the value Thursday\n",
    "weekend_membership_test = day_lv.fuzzification(\"Weekend\", \"Thursday\")\n",
    "print(\"Thursday has the membership \" + str(weekend_membership_test) + \" for being the Weekend.\")\n",
    "# The second value is that the work will be 2.5 hours, so how Little, Moderate, and Very busy is that?\n",
    "little_membership_test = busy_lv.fuzzification(\"Little\", 2.5)\n",
    "print(\"2.5 hours has the membership \" + str(little_membership_test) + \" for being Little busy\")\n",
    "moderate_membership_test = busy_lv.fuzzification(\"Moderate\", 2.5)\n",
    "print(\"2.5 hours has the membership \" + str(moderate_membership_test) + \" for being Moderate busy\")\n",
    "very_membership_test = busy_lv.fuzzification(\"Very\", 2.5)\n",
    "print(\"2.5 hours has the membership \" + str(very_membership_test) + \" for being Very busy\")"
   ]
  },
  {
   "cell_type": "markdown",
   "metadata": {},
   "source": [
    "\n",
    "ATTENTION --- Le problème que nous voudrons résoudre à partir de maintenant est le suivant: \n",
    "***\n",
    "\n",
    "    Déclaration du problème: C’est vendredi et j’ai encore 4 heures de travail à faire. Combien de kilomètres vais-je faire à vélo?\n",
    "***\n",
    "    \n",
    "Ce problème sera utilisé pour les prochaines sections, alors assurez-vous de vous y référer en cas de besoin. "
   ]
  },
  {
   "cell_type": "markdown",
   "metadata": {},
   "source": [
    "***\n",
    "**(TO DO) Q6 - 2 points**\n",
    "\n",
    "Effectuez la fuzzification pour le problème (défini ci-dessus) dans la cellule ci-dessous.\n",
    "***"
   ]
  },
  {
   "cell_type": "code",
   "execution_count": null,
   "metadata": {},
   "outputs": [],
   "source": [
    "# TODO: Add in the fuzzification calls for the appropriate linguistic variables.\n",
    "# Weekend fuzzification\n",
    "weekend_membership = ...\n",
    "print(weekend_membership)\n",
    "# Little fuzzification\n",
    "little_membership = ...\n",
    "print(little_membership)\n",
    "# Moderate fuzzification\n",
    "moderate_membership = ...\n",
    "print(moderate_membership)\n",
    "# Very fuzzification\n",
    "very_membership = ...\n",
    "print(very_membership)"
   ]
  },
  {
   "cell_type": "markdown",
   "metadata": {},
   "source": [
    "**5. Application des règles d'inférences ou de raisonnements.**  \n",
    "\n",
    "Maintenant que la fuzzification de l’énoncé du problème est terminée, nous pouvons commencer à appliquer les opérateurs de logique floue qui ont été programmés ci-dessus en nous servant des règles que nous avons définies dans la partie 3 de ce notebook.     \n",
    "\n",
    "Vous trouverez ci-dessous un exemple d’application des opérateurs de la règle 1 avec les données de fuzzification de l’étape précédente.  \n",
    "\n",
    "Lors de l’application des règles d’inférence, nous établissons la priorité suivante (ordre d’application des opérateurs):   \n",
    "1. fuzzy_NOT: Toutes les instances de NOT doivent être appliquées en premier\n",
    "2. fuzzy_OR : Toutes les instances de OR doivent être appliquées ensuite\n",
    "3. fuzzy_AND: Toutes les instances de AND doivent être appliquées en dernier"
   ]
  },
  {
   "cell_type": "code",
   "execution_count": null,
   "metadata": {},
   "outputs": [],
   "source": [
    "print(\"Rule 1 - If it is the Weekend and I am Very Busy, I will do an Average bike ride.\")\n",
    "# If it is the Weekend AND I am Very busy -> What is the membership of Average ride\n",
    "rule1_membership = fuzzy_AND(weekend_membership, very_membership)\n",
    "print(\"The membership value for Average bike ride is \" + str(rule1_membership))"
   ]
  },
  {
   "cell_type": "markdown",
   "metadata": {},
   "source": [
    "***\n",
    "**(TO DO) Q7 - 2 points**  \n",
    "\n",
    "Pour chacune des trois règles définies dans la partie 3 de ce notebook, appliquez correctement les opérateurs pour mettre en place les règles. Cela doit être fait dans la cellule ci-dessous, avec les résultats formatés comme on le voit dans l’exemple ci-dessus. La règle 1 a été indiquée dans la cellule précédente et a déjà été définie pour vous ci-dessous.\n",
    "***"
   ]
  },
  {
   "cell_type": "code",
   "execution_count": null,
   "metadata": {},
   "outputs": [],
   "source": [
    "# RULE 1\n",
    "# Rule 1 - If it is the Weekend and I am Very Busy, I will do an Average bike ride.\n",
    "print(\"Rule 1 - If it is the Weekend and I am Very Busy, I will do an Average bike ride.\")\n",
    "rule1_membership = fuzzy_AND(weekend_membership, very_membership)\n",
    "print(\"The membership value for Average bike ride is \" + str(rule1_membership))\n",
    "\n",
    "#TODO\n",
    "# RULE 2\n",
    "# Rule 2 - If it is the Weekend and I am a Little Busy or Moderately Busy, I will do a Long bike ride.\n",
    "print(\"Rule 2 - If it is the Weekend and I am a Little Busy or Moderately Busy, I will do a Long bike ride.\")\n",
    "rule2_membership = ...\n",
    "print(\"The membership value for Long bike ride is \" + str(rule2_membership))\n",
    "\n",
    "#TODO\n",
    "# RULE 3\n",
    "# Rule 3 - If it is Not the Weekend OR I am Very Busy, I will do a Short bike ride.\n",
    "print(\"Rule 3 - ...\")\n",
    "rule3_membership = ...\n",
    "print(\"The membership value for Short bike ride is \" + str(rule3_membership))"
   ]
  },
  {
   "cell_type": "markdown",
   "metadata": {},
   "source": [
    "***\n",
    "**(TO DO) Q8 - 2 points**  \n",
    "\n",
    "Nous devons maintenant transférer le degré d'appartenance de l’antécédent sur la conséquence de chaque règle. Cela se fait en appelant la fonction LinguisticVariable.set_fuzzy_maximum(fs_name, x). Cette fonction transfère le degré d'appartenance x à un sous-ensemble flou dont le nom est fs_name (dans ce cas, la conséquence).   \n",
    "\n",
    "Votre tâche consiste à transférer les degrés d'appartenance obtenus en utilisant les 3 règles sur les sous-ensembles flous de Biking correspondants.\n",
    "***"
   ]
  },
  {
   "cell_type": "code",
   "execution_count": null,
   "metadata": {},
   "outputs": [],
   "source": [
    "biking_lv.set_fuzzy_maximum(\"Extended\", 0) # no rule defined for Extended\n",
    "biking_lv.set_fuzzy_maximum(\"Short\", rule3_membership)\n",
    "\n",
    "# TODO: Transfer the membership degrees to the biking_lv fuzzy subsets Average and Long\n",
    "#\n",
    "#\n",
    "#"
   ]
  },
  {
   "cell_type": "markdown",
   "metadata": {},
   "source": [
    "**6. Défuzzification.**  \n",
    "\n",
    "La dernière étape pour résoudre l’énoncé de problème est d’effectuer la défuzzification. Ce processus consiste à prendre une entrée floue et à produire une sortie nette basée sur l’une des nombreuses méthodes de défuzzification. Nous avons vus dans les vidéos du cours une méthode appelée moyenne des maximas.  Cela correspond à prendre la moyenne des valeurs sur l'axe des x pour lesquelles apparaissent les valeurs maximales trouvées sur l’axe y.   \n",
    "  \n",
    "Dans la section précédente, vous avez obtenu les degré d'appartenance aux divers sous-ensembles flous de Biking. Pour la moyenne des maximas, la défuzzification doit être appliquée *uniquement* au sous-ensemble flou qui contient le plus haut degré d'appartenance (nous supposerons qu'il est unique pour l'instant)."
   ]
  },
  {
   "cell_type": "markdown",
   "metadata": {},
   "source": [
    "***\n",
    "**(TO DO) Q9 - 3 points**   \n",
    "\n",
    "Votre tâche est maintenant d’effectuer le processus de défuzzification qui permettra finalement de répondre à l’énoncé de problème. Répondre à l'énoncé du problème veut dire donner le nombre de kilomètres de vélo qui sera effectué.  \n",
    "\n",
    "Il y a trois parties que vous devez compléter.    \n",
    " \n",
    "1. Trouvez quel sous-ensemble flou correspondant à la variable linguistique Biking contient le degré d'appartenance le plus élevé suite à l'application des 3 règles (fait en Q7) et au transfert (fait en Q8). Vous pouvez accéder au degré d’appartenance maximal d’un sous-ensemble flou dans une variable linguistique en appelant *LinguisticVariable.get_fuzzy_maximum(fs_name)*, où fs_name est le nom du sous-ensemble flou. Dans votre code, vous devez imprimer le nom du sous-ensemble flou avec le degré d’appartenance le plus important.\n",
    "2. Pour seul le sous-ensemble flou qui contient le degré d'appartenance maximale, effectuez la défuzzification avec la moyenne des maxima, en appelant la fonction *LinguisticVariable.defuzzification_average_maximas(fs_name)*, où fs_name est le nom du sous-ensemble de la variable floue. Imprimez la sortie.     \n",
    "3. Utiliser le résultat de la defuzzification pour répondre à l'énoncé.\n",
    "***"
   ]
  },
  {
   "cell_type": "code",
   "execution_count": null,
   "metadata": {},
   "outputs": [],
   "source": [
    "# (TO DO) Q9 - Part 1\n",
    "# TODO: Determine which fuzzy subset contains the maximum membership value\n",
    "max_name = \"\"\n",
    "max_membership = 0\n",
    "fuzzy_subset_names = [\"Short\", \"Average\", \"Long\", \"Extended\"]\n",
    "for name in fuzzy_subset_names:\n",
    "#  .... continue code\n",
    "#\n",
    "#\n",
    "# TODO: Print the maximum membership value and the name of the fuzzy subset in which it is \n",
    "#\n",
    "# "
   ]
  },
  {
   "cell_type": "code",
   "execution_count": null,
   "metadata": {},
   "outputs": [],
   "source": [
    "\n",
    "# (TO DO) Q9 - Part 2\n",
    "# TODO: Perform the defuzzification on a single subset\n",
    "output = biking_lv.defuzzification_average_maximas(...)\n",
    "\n",
    "# (TO DO) Q9 - Part 3\n",
    "# TODO: Print the crisp output\n",
    "print(\"I will bike for \" + ... + \" kilometers\")\n"
   ]
  },
  {
   "cell_type": "markdown",
   "metadata": {},
   "source": [
    "***\n",
    "**(TO DO) Q10 - 1 point**\n",
    "\n",
    "Comme nous l'avons vu dans les vidéos du cours, la moyenne des maximas n'est qu'une possibilité. Utilisons une approche différente: une somme de valeurs pondérée par les degrés d'appartenance. Cela signifie que nous n'utiliserons pas seulement le sous-ensemble avec le degré d'appartenance maximal, mais tous les sous-ensembles comme indiqué dans le code ci-dessous. Comparez les 2 résultats de défuzzification (selon les 2 méthodes différentes) et discutez de la méthode de défuzzification qui vous semble la plus appropriée dans ce cas. Il n'y a pas de bonne ou de mauvaise réponse ici... exprimez simplement votre opinion.\n",
    "\n",
    "**(RÉPONSE) **\n",
    "*** "
   ]
  },
  {
   "cell_type": "code",
   "execution_count": null,
   "metadata": {},
   "outputs": [],
   "source": [
    "# Alternative way to perform defuzzification\n",
    "\n",
    "ShortValue = biking_lv.get_fuzzy_maximum(\"Short\")\n",
    "AverageValue = biking_lv.get_fuzzy_maximum(\"Average\")\n",
    "LongValue = biking_lv.get_fuzzy_maximum(\"Long\")\n",
    "  \n",
    "output = biking_lv.defuzzification_average_maximas(\"Short\") * ShortValue + \\\n",
    "biking_lv.defuzzification_average_maximas(\"Average\") * AverageValue + \\\n",
    "biking_lv.defuzzification_average_maximas(\"Long\") * LongValue \n",
    "\n",
    "print(\"I will bike for \" + str(round(output)) + \" kilometers\")"
   ]
  },
  {
   "cell_type": "markdown",
   "metadata": {},
   "source": [
    "***\n",
    "**SECTION OPTIONNELLE - TESTER D'AUTRES ÉNONCÉS **  \n",
    "\n",
    "ATTENTION - Pour cette section, ne modifiez pas directement vos cellules ci-haut, car ces cellules seront corrigées et devront répondre aux questions demandées (Q1 à Q10).  Recopiez plutôt toutes les étapes nécessaires dans de nouvelles cellules que vous pourrez modifier à votre guise.\n",
    "\n",
    "**7. Résoudre un autre énoncé.**  \n",
    "Maintenant que vous avez fait toutes les étapes du processus de résolution d’un problème, vous pouvez appliquer ces mêmes étapes sur n'importe quel énoncé.\n",
    "\n",
    "Un exemple d'énoncé de problème que vous pouvez résoudre par vous-même est :  \n",
    "***   \n",
    "    Énoncé: C'est dimanche et j'ai encore 8 heures de travail à faire.  Combien de km de vélo pourrais-je faire?\n",
    "***   \n",
    "     \n",
    "1. Effectuer la fuzzification et imprimer les résultats de la fuzzification.    \n",
    "2. Appliquer les opérateurs de logique floue sur l’antécédent des trois règles utilisées dans ce notebook.    \n",
    "3. Transférer le degré d’appartenance de l’antécédent sur la conséquence.\n",
    "4. Effectuer la défuzzification et imprimer la réponse au problème (ne pas oublier de trouver l’appartenance maximale).\n",
    "\n",
    "**8. Intégrer votre Règle 4.**\n",
    "\n",
    "Aussi, pourquoi ne pas intégrer votre Règle 4 ayant comme conséquence le sous-ensemble flou *Extended*.  Vous pourriez voir comment cette nouvelle règle affecte les réponses aux divers énoncés.\n"
   ]
  },
  {
   "cell_type": "markdown",
   "metadata": {},
   "source": [
    "***\n",
    "SIGNATURE: Mon nom est ------------------------, et mon numéro d'étudiant(e) est ----------------------------. Je certifie être l'auteur de ce devoir.\n",
    "***"
   ]
  },
  {
   "cell_type": "code",
   "execution_count": null,
   "metadata": {},
   "outputs": [],
   "source": []
  }
 ],
 "metadata": {
  "kernelspec": {
   "display_name": "Python 3 (ipykernel)",
   "language": "python",
   "name": "python3"
  },
  "language_info": {
   "codemirror_mode": {
    "name": "ipython",
    "version": 3
   },
   "file_extension": ".py",
   "mimetype": "text/x-python",
   "name": "python",
   "nbconvert_exporter": "python",
   "pygments_lexer": "ipython3",
   "version": "3.7.3"
  }
 },
 "nbformat": 4,
 "nbformat_minor": 2
}
