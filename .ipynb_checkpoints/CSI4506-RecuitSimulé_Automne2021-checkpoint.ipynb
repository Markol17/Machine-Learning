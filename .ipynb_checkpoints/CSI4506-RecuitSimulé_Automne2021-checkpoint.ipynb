{
 "cells": [
  {
   "cell_type": "markdown",
   "metadata": {},
   "source": [
    "## Notebook 3 - Recuit simulé pour le problème du voyageur de commerce"
   ]
  },
  {
   "cell_type": "markdown",
   "metadata": {},
   "source": [
    "CSI4506 Intelligence Artificielle  \n",
    "Automne 2021   \n",
    "Version 1 (2020) préparée par Julian Templeton et Justin Charbonneau. Version 2 (2021) adaptée par Caroline Barrière."
   ]
  },
  {
   "cell_type": "markdown",
   "metadata": {},
   "source": [
    "***INTRODUCTION***:\n",
    "\n",
    "Ce devoir vous permettra de mieux comprendre les algorithmes de recherche aléatoire vus en classe, en particulier l'algorithme de *recuit simulé*, qui est une méthode connue qui exemplifie bien la *modification aléatoire*.  Au départ, une solution gloutonne est proposée.  Cette solution est révisée petit à petit pour arriver à une meilleure solution.\n",
    "\n",
    "Le domaine d'application utilisé ici pour expérimenter avec le *recuit simulé* est le problème du voyageur de commerce (Traveling salesman problem).  C'est un problème classique, dans lequel le but est de visiter toutes les villes d'un graphe interconnecté de villes, et ce, en parcourant la plus petite distance possible.\n",
    "\n",
    "Le Notebook mènera à la partie *Recuit simulé* après avoir exploré une *approche gloutonne* et une approche *étape aléatoire* également. N'oubliez pas qu'en *étape aléatoire*, nous suivons une recherche gloutonne, mais parfois nous faisons un choix différent."
   ]
  },
  {
   "cell_type": "markdown",
   "metadata": {},
   "source": [
    "***DEVOIR***:   \n",
    "\n",
    "Parcourir le notebook, en exécutant chaque cellule, une à une.  \n",
    "Pour chaque **(TO DO)**, effectuer les tâches demandées.  \n",
    "Quand vous avez terminé, signez (voir cette étape ajoutée à la fin) et soumettez votre notebook.  N'oubliez pas de personnaliser le nom du notebook à NuméroEtudiant-NomFamille-Notebook3.ipynb.\n",
    "\n",
    "Ce notebook sera évalué sur 20 points.  \n",
    "Chaque **(TO DO)** aura un pointage associé.\n",
    "***"
   ]
  },
  {
   "cell_type": "markdown",
   "metadata": {},
   "source": [
    "**1. Définissons d'abord un petit nombre de villes à parcourir.**"
   ]
  },
  {
   "cell_type": "code",
   "execution_count": null,
   "metadata": {},
   "outputs": [],
   "source": [
    "# let's define 5 cities with a label and a (x,y) coordinate\n",
    "cities = {'A': (0,0), 'B': (1,1), 'C': (1,0), 'D': (1,-1), 'E': (-1,-1)}"
   ]
  },
  {
   "cell_type": "markdown",
   "metadata": {},
   "source": [
    "La méthode *showNodes* ci-bas nous permet de visualiser la position des villes.\n",
    "\n",
    "Les packages **matplotlib** , **networkx** et **numpy** doivent d'abord être installés. \n",
    "\n",
    "Pour faire l'installation des packages, ouvrir une invite de commande, et tapez **pip install networkx** ainsi que **pip install numpy** (Si vous avez linux ou un Mac, vous pouvez utiliser **pip3** au lieu de **pip** selon la configuration de votre environnement). Matplotlib devrait déjà être installé mais si ce n'est pas le cas, utilisez la commande **pip install matplotlib** pour l'installer.\n",
    "\n",
    "Vous pouvez également profiter des commandes magiques et insérer une cellule de code et inscrire **%pip install networkx**.  Une fois les packages installés, vous devrez probablement redémarrer le *kernel*.  Ensuite, vous serez en mesure d'exécuter la cellule ci-bas."
   ]
  },
  {
   "cell_type": "code",
   "execution_count": null,
   "metadata": {},
   "outputs": [],
   "source": [
    "import matplotlib.pyplot as plt\n",
    "import networkx as nx\n",
    "\n",
    "# small method to show nodes\n",
    "# provide defaults for figure size (size), as well as x and y axis\n",
    "def showNodes(nodeDict, size= (6.5, 4), xLim=[-2,2], yLim=[-2,2]):\n",
    "    fig = plt.figure(figsize=size)\n",
    "    axg = fig.add_subplot(111)\n",
    "    axg.set_xlim(xLim)\n",
    "    axg.set_ylim(yLim)\n",
    "\n",
    "    G=nx.Graph()\n",
    "    for k in nodeDict.keys():\n",
    "        G.add_node(k, coor=nodeDict.get(k))\n",
    "    \n",
    "    pos=nx.get_node_attributes(G,'coor')\n",
    "    nx.draw(G, pos, with_labels = True)\n",
    "    plt.axis('on')\n",
    "    plt.show()"
   ]
  },
  {
   "cell_type": "code",
   "execution_count": null,
   "metadata": {},
   "outputs": [],
   "source": [
    "# show the cities on a map\n",
    "showNodes(cities)"
   ]
  },
  {
   "cell_type": "markdown",
   "metadata": {},
   "source": [
    "#### 2. Mesurons les distances entre les villes\n",
    "D'abord, nous définissons une méthode pour calculer la distance entre deux villes spécifiques.  Ensuite nous définissons une méthode pour trouver l'ensemble des distances entre plusieurs paires de noeuds (villes)."
   ]
  },
  {
   "cell_type": "code",
   "execution_count": null,
   "metadata": {},
   "outputs": [],
   "source": [
    "import math\n",
    "\n",
    "# returns the euclidian distance between two nodes\n",
    "def dist(node1, node2):\n",
    "    return round(math.sqrt(math.pow(node1[0] - node2[0], 2) + math.pow(node1[1] - node2[1], 2)), 3)"
   ]
  },
  {
   "cell_type": "code",
   "execution_count": null,
   "metadata": {},
   "outputs": [],
   "source": [
    "# Small test to see the distance\n",
    "dist(cities.get('A'), cities.get('B'))"
   ]
  },
  {
   "cell_type": "code",
   "execution_count": null,
   "metadata": {},
   "outputs": [],
   "source": [
    "# building a dictionary of all pairs or distances\n",
    "def distDict(nodes):\n",
    "    distance = {}\n",
    "    # go through all pairs of nodes\n",
    "    for k in nodes.keys():\n",
    "        for m in nodes.keys():\n",
    "            distance[k,m] = dist(nodes.get(k), nodes.get(m))\n",
    "    return distance"
   ]
  },
  {
   "cell_type": "code",
   "execution_count": null,
   "metadata": {},
   "outputs": [],
   "source": [
    "# showing the distances between the cities\n",
    "distances = distDict(cities)\n",
    "print(distances)"
   ]
  },
  {
   "cell_type": "markdown",
   "metadata": {},
   "source": [
    "Ajoutons aussi une méthode pour trouver la ville la plus proche d'une autre ville.  Cette méthode sera utile plus tard."
   ]
  },
  {
   "cell_type": "code",
   "execution_count": null,
   "metadata": {},
   "outputs": [],
   "source": [
    "# find the min distance from node1 to all other nodes.\n",
    "# it receives the node1 label, the labels of other nodes to test,\n",
    "# and the precalculated distances between all nodes\n",
    "def closestNode(node1_label, otherNodes_Labels, distanceDict):\n",
    "   \n",
    "    # tricky syntax... it creates tuples where the distance is the first element of the tuple\n",
    "    # and the position in the array is the second element of the tuple\n",
    "    minDist = min( (distanceDict[node1_label,k], k) for k in otherNodes_Labels)\n",
    "    # get the second element of the tuple which is the index found\n",
    "    foundNode = minDist[1]\n",
    "    return foundNode"
   ]
  },
  {
   "cell_type": "code",
   "execution_count": null,
   "metadata": {},
   "outputs": [],
   "source": [
    "# Testing the closest node\n",
    "closestNode('B', ['C', 'D'], distances)"
   ]
  },
  {
   "cell_type": "markdown",
   "metadata": {},
   "source": [
    "#### 3. Solution gloutonne d'abord\n",
    "La première approche que nous explorons est un algorithme glouton."
   ]
  },
  {
   "cell_type": "code",
   "execution_count": null,
   "metadata": {},
   "outputs": [],
   "source": [
    "# greedy solution\n",
    "import random\n",
    "\n",
    "def greedy_solution(nodes):\n",
    "    # distance matrix\n",
    "    allDist = distDict(nodes)\n",
    "    # pick a first node at random among the set of keys (node names)\n",
    "    cur_node = random.choice(list(nodes.keys()))\n",
    "    # add that node to solution\n",
    "    solution = [cur_node]\n",
    "    # build a free list of nodes (not yet used) containing all nodes except the one just chosen \n",
    "    free_list = list(nodes.keys())\n",
    "    free_list.remove(cur_node)\n",
    "    \n",
    "    # while there are still nodes to be attached\n",
    "    while free_list:\n",
    "        # find the closestNode\n",
    "        found_node = closestNode(cur_node, free_list, allDist)\n",
    "        cur_node = found_node\n",
    "        free_list.remove(cur_node)\n",
    "        solution.append(cur_node)\n",
    "\n",
    "    return solution"
   ]
  },
  {
   "cell_type": "code",
   "execution_count": null,
   "metadata": {
    "scrolled": true
   },
   "outputs": [],
   "source": [
    "# Test obtaining a greedy solution\n",
    "gs = greedy_solution(cities)\n",
    "print(gs)"
   ]
  },
  {
   "cell_type": "markdown",
   "metadata": {},
   "source": [
    "**(TO DO) Q1 - 2 points**  \n",
    "Il existe des cas de TSP dans lesquels la ville de départ est définie.\\\n",
    "(a) Définissez une nouvelle méthode de solution gloutonne dans laquelle vous incluez un paramètre supplémentaire qui est le nom du nœud de départ.\\\n",
    "(b) Testez votre méthode avec le nœud de départ « B ».  Montrez la solution obtenue."
   ]
  },
  {
   "cell_type": "code",
   "execution_count": null,
   "metadata": {},
   "outputs": [],
   "source": [
    "# RÉPONSE - Q1 - Partie (a)\n",
    "# Copy-paste from greedy_solution and make a small change\n",
    "# greedy solution\n",
    "import random\n",
    "def greedy_solution_with_fixed_start(nodes, start):\n",
    "    ...\n",
    "\n",
    "    return solution"
   ]
  },
  {
   "cell_type": "code",
   "execution_count": null,
   "metadata": {},
   "outputs": [],
   "source": [
    "# RÉPONSE - Q1 - Partie (b)\n",
    "# Test your new method with starting node 'B'\n",
    "gs2 = ..."
   ]
  },
  {
   "cell_type": "markdown",
   "metadata": {},
   "source": [
    "#### 4. Calcul de la distance parcourue et affichage d'un chemin."
   ]
  },
  {
   "cell_type": "markdown",
   "metadata": {},
   "source": [
    "Lorsque nous avons une solution au TSP (chemin parcourant toutes les villes), nous voudrons connaître la distance totale parcourue."
   ]
  },
  {
   "cell_type": "markdown",
   "metadata": {},
   "source": [
    "**(TO DO) Q2 - 2 points**  \n",
    "Complétez la méthode pour trouver la longueur totale du chemin trouvé."
   ]
  },
  {
   "cell_type": "code",
   "execution_count": null,
   "metadata": {},
   "outputs": [],
   "source": [
    "# RÉPONSE Q2 - Fill in the missing lines\n",
    "def totalDist(path, distanceDict):\n",
    "    total = 0\n",
    "    for i in range(len(path) - 1):\n",
    "        x = path[i]\n",
    "        # The two lines below\n",
    "        y = ...\n",
    "        total += ...\n",
    "    return round(total,3)"
   ]
  },
  {
   "cell_type": "code",
   "execution_count": null,
   "metadata": {},
   "outputs": [],
   "source": [
    "# Test the total distance method\n",
    "print(gs1)\n",
    "print(totalDist(gs1, distances))\n",
    "print(gs2)\n",
    "print(totalDist(gs2, distances))"
   ]
  },
  {
   "cell_type": "markdown",
   "metadata": {},
   "source": [
    "Maintenant nous voulons visualiser le chemin trouvé. Nous modifions légèrement la méthode *showNodes* vue précédemment pour devenir *showPath* et montrer un chemin dans un graphe dirigé. "
   ]
  },
  {
   "cell_type": "code",
   "execution_count": null,
   "metadata": {},
   "outputs": [],
   "source": [
    "# small method to show a path\n",
    "# it receives an ordered list of nodes e.g. ['B','C','A', 'D', 'E']\n",
    "# and a dictionary of all the nodes and their positions\n",
    "def showPath(path, nodeDict, size= (6.5, 4), xLim=[-2,2], yLim=[-2,2]):\n",
    "\n",
    "    fig = plt.figure(figsize=size)\n",
    "    axg = fig.add_subplot(111)\n",
    "    axg.set_xlim(xLim)\n",
    "    axg.set_ylim(yLim)\n",
    "\n",
    "    G=nx.DiGraph()\n",
    "    for k in path:\n",
    "        G.add_node(k, pos=nodeDict.get(k))\n",
    "        \n",
    "    for i in range(len(path) - 1):\n",
    "        x = path[i]\n",
    "        y = path[i + 1]\n",
    "        G.add_edge(x,y)\n",
    "        \n",
    "    pos=nx.get_node_attributes(G,'pos')\n",
    "    nx.draw(G, pos, with_labels = True, edge_color = ['b', 'r', 'c', 'y', 'g', 'm'], arrows=True)   \n",
    "    # nx.draw(G, pos, with_labels = True)\n",
    "    plt.axis('on')\n",
    "    plt.show()"
   ]
  },
  {
   "cell_type": "markdown",
   "metadata": {},
   "source": [
    "**(TO DO) Q3 - 2 points**  \n",
    "Montrez le chemin obtenu avec la recherche gloutonne (n'importe quel nœud de départ) et la recherche gloutonne avec 'A' comme nœud de départ.  *ATTENTION: étant donné que les noeuds B, C et D sont verticalement alignés, il se peut qu'une solution comprenne un arc entre B et D ou D et B, mais il sera caché derrière le noeud C.*"
   ]
  },
  {
   "cell_type": "code",
   "execution_count": null,
   "metadata": {},
   "outputs": [],
   "source": [
    "# RÉPONSE - Q3\n",
    "# Show paths\n",
    "... \n",
    "# Testing to output the path chosen by the greedy solution\n",
    "gs1 = ...\n",
    "print(gs1)\n",
    "showPath(gs1, cities)\n",
    "# Testing to output the path chosen by the greedy solution with start 'A'\n",
    "gs3 = ...\n",
    "print(gs3)\n",
    "... "
   ]
  },
  {
   "cell_type": "markdown",
   "metadata": {},
   "source": [
    "**(TO DO) Q4 - 4 points**  \n",
    "Ajouter 3 nouvelles villes (positionner les villes où vous voulez dans le graphe prédéfini de -2 à 2).  Donc, refaire la séquence d'étapes que nous avons fait précédemment que nous résumons ci-bas: \\\n",
    "(1) définir un graphe \\\n",
    "(2) visualiser les positions des villes \\\n",
    "(3) contruire le dictionnaire des distances \\\n",
    "(4) trouver deux solutions gloutonnes (sans établir le noeud de départ) \\\n",
    "(5) montrer les chemins pour ces solutions avec les distances parcourues. "
   ]
  },
  {
   "cell_type": "code",
   "execution_count": null,
   "metadata": {},
   "outputs": [],
   "source": [
    "# RÉPONSE - Q4\n",
    "\n",
    "# (1) Defining a larger set of cities  (add two more)\n",
    "moreCities = {'A': (0,0), 'B': (1,1), 'C': (1,0), 'D': (1,-1), 'E': (-1,-1), 'F':  ... 'G' ... 'H'\n",
    "# (2) Show the points\n",
    "...\n",
    "# (3) Build the distance dictionary\n",
    "...\n",
    "# (4) Find two unique greedy solutions \n",
    "...\n",
    "# (5) Show the two unique paths found above along with their total distances\n",
    "..."
   ]
  },
  {
   "cell_type": "markdown",
   "metadata": {},
   "source": [
    "**5. Algorithme d'étape aléatoire (random step)**\n",
    "\n",
    "Avant de créer notre solution gloutonne aléatoire, nous définissons une fonction qui s'appelle kClosestNodes qui retournera les k noeuds les plus près du noeud spécifié.  Cela sera utile pour varier les étapes (pas toutes \"gloutonnes\"), sans toutefois faire des étapes entièrement aléatoire."
   ]
  },
  {
   "cell_type": "code",
   "execution_count": null,
   "metadata": {},
   "outputs": [],
   "source": [
    "# find the min distance from node1 to all other nodes.\n",
    "# it receives the node1 label, the labels of other nodes to test,\n",
    "# the precalculated distances between all nodes, and k for how many to return\n",
    "# The function then outputs a list of the k-closest nodes, where the\n",
    "# first is the closest and the kth is the kth-closest\n",
    "def kClosestNodes(node1_label, otherNodes_Labels, distanceDict, k):\n",
    "    kClosest = []\n",
    "    # Create a sorted distance list based on the values from the distance dictionary\n",
    "    # This has the form [((node_1, node_2),value_1), ..., ((node_n, node_n), value_n)]\n",
    "    sortedDistances = sorted(distanceDict.items(), key=lambda keyPair: keyPair[1])\n",
    "    # Iterate through the sorted distance list to find our k min distances\n",
    "    # from node1_label\n",
    "    for key, value in sortedDistances:\n",
    "        if (k > 0 and key[0] == node1_label and key[1] in otherNodes_Labels):\n",
    "            k -= 1\n",
    "            kClosest.append(key[1])\n",
    "    return kClosest"
   ]
  },
  {
   "cell_type": "code",
   "execution_count": null,
   "metadata": {},
   "outputs": [],
   "source": [
    "# Example usage\n",
    "# View the distance dictionary to verify correctness when finding the closest nodes\n",
    "# to node B in cities\n",
    "print(distances)\n",
    "# Find the two closest nodes to the node B in cities (using its distance dictionary)\n",
    "kClosestNodes('B', ['A', 'C', 'D', 'E'], distances, 2)"
   ]
  },
  {
   "cell_type": "markdown",
   "metadata": {},
   "source": [
    "**(TO DO) Q5 - 3 points**  \n",
    "Ci-dessous est défini l'algorithme étape aléatoire. Remplissez les parties manquantes. L'implémentation ci-bas suppose qu'à chaque étape, il y a 50% de chance de suivre la recherche gloutonne, et 50% de chance d'effectuer une action différente en allant vers un des k nœuds les plus proches."
   ]
  },
  {
   "cell_type": "code",
   "execution_count": null,
   "metadata": {},
   "outputs": [],
   "source": [
    "# RÉPONSE - Q5 \n",
    "import random\n",
    "import numpy as np\n",
    "\n",
    "# k represents the number of closest nodes to be returned from the\n",
    "# function kClosestNodes\n",
    "def random_step(nodes, k):\n",
    "    # distance matrix\n",
    "    allDist = distDict(nodes)\n",
    "    # pick a first node at random among the set of keys (node names)\n",
    "    cur_node = random.choice(list(nodes.keys()))\n",
    "    # add that node to solution\n",
    "    solution = [cur_node]\n",
    "    # build a free list of nodes (not yet used) containing all nodes except the one just chosen \n",
    "    free_list = list(nodes.keys())\n",
    "    free_list.remove(cur_node)\n",
    "    \n",
    "    # while there are still nodes to be attached\n",
    "    while len(free_list) != 0:\n",
    "        \n",
    "        # if greedy_or_not is 0, chose among the k closest nodes, otherwise, do greedy meaning reduce k to 1\n",
    "        greedy_or_not = random.randint(0,1)\n",
    "        if (greedy_or_not == 0):\n",
    "            nbPoss = ...\n",
    "        else:\n",
    "            nbPoss = ...\n",
    "        # define the possible nodes for that step    \n",
    "        possibilities = kClosestNodes(...\n",
    "        print(possibilities)\n",
    "        # randomly choose one node among the possibilities\n",
    "        found_node = random.choice(...\n",
    "        \n",
    "        # Add the found node on the solution and remove from free list\n",
    "        cur_node = found_node\n",
    "        free_list.remove(cur_node)\n",
    "        solution.append(cur_node)\n",
    "        \n",
    "    return solution"
   ]
  },
  {
   "cell_type": "markdown",
   "metadata": {},
   "source": [
    "**(TO DO) Q6 - 5 points**  \n",
    "Effectuer des tests et une évaluation. \\\n",
    "(a) Exécutez la recherche gloutonne 3 fois. \\\n",
    "(b) Exécutez l'étape aléatoire 3 fois avec k = 2. \\\n",
    "(c) Exécutez l'étape aléatoire 3 fois avec k = 3. \\\n",
    "Pour chaque test, montrez le chemin trouvé et sa longueur. Puis, à la fin, montrez les résultats moyens pour chacun de (a, b, c). \\\n",
    "Enfin, discuter des résultats obtenus. L'étape aléatoire est-elle meilleure ?  Y a-t-il une différence entre k=2 et k=3?"
   ]
  },
  {
   "cell_type": "code",
   "execution_count": null,
   "metadata": {},
   "outputs": [],
   "source": [
    "# RÉPONSE Q6 - partie Codage\n",
    "# Perform tests\n",
    "..."
   ]
  },
  {
   "cell_type": "markdown",
   "metadata": {},
   "source": [
    "RÉPONSE Q6 - Partie de discussion \\\n",
    "...\n"
   ]
  },
  {
   "cell_type": "markdown",
   "metadata": {},
   "source": [
    "**6. Definissons le processus du recuit simulé**  \n",
    "Voyons maintenant un algorithme de modification aléatoire. Plus précisément, nous examinons le recuit simulé. La classe ci-bas définit le processus du recuit simulé.  Cette classe est une adaptation de la classe *anneal.py* qui se trouve dans le code python du github https://github.com/chncyhn/simulated-annealing-tsp. Vous n'avez pas à modifier cette classe, mais tenter de la comprendre pour assimiler l'algorithme du recuit simulé. "
   ]
  },
  {
   "cell_type": "code",
   "execution_count": null,
   "metadata": {},
   "outputs": [],
   "source": [
    "# AUCUNE MODIFICATION REQUISE\n",
    "\n",
    "# class to perform a simulated annealing\n",
    "# must start with a set of nodes, all other parameters have defaults\n",
    "class SimAnneal(object):\n",
    "    def __init__(self, nodes, randomStep, k=4, T=-1, alpha=-1, stopping_T=-1, stopping_iter=-1):\n",
    "        # set of nodes\n",
    "        self.nodes = nodes\n",
    "        # number of nodes\n",
    "        self.N = len(nodes)\n",
    "        # set the temperature T to sqrt(N) if not specified\n",
    "        self.T = math.sqrt(self.N) if T == -1 else T\n",
    "        # set alpha (rate at which the temperature is decreased)\n",
    "        self.alpha = 0.995 if alpha == -1 else alpha\n",
    "        # set stopping temprature\n",
    "        self.stopping_temperature = 0.00000001 if stopping_T == -1 else stopping_T\n",
    "        # set stopping iteration\n",
    "        self.stopping_iter = 100000 if stopping_iter == -1 else stopping_iter\n",
    "        # start at iteration 1\n",
    "        self.iteration = 1\n",
    "\n",
    "        # calculate the distances\n",
    "        self.allDist = distDict(nodes)\n",
    "        \n",
    "        # start with greedy solution if randomStep is false,\n",
    "        #  start with the random step solution if randomStep is true\n",
    "        if (randomStep):\n",
    "            self.cur_solution = random_step(nodes, k)\n",
    "            self.improvementMessage = 'Improvement over random step solution: '\n",
    "        else:\n",
    "            self.cur_solution = greedy_solution(nodes)\n",
    "            self.improvementMessage = 'Improvement over greedy solution: '\n",
    "        \n",
    "        # so far, the best solution is the one we have\n",
    "        self.best_solution = list(self.cur_solution)\n",
    "\n",
    "        # calculate fitness of the current solution\n",
    "        self.cur_fitness = self.fitness(self.cur_solution)\n",
    "        # initial fitness for initial solution\n",
    "        self.initial_fitness = self.cur_fitness\n",
    "        # best fitness so far\n",
    "        self.best_fitness = self.cur_fitness\n",
    "        # build the fitness list as we explore solutions\n",
    "        self.fitness_list = [self.cur_fitness]\n",
    "\n",
    "\n",
    "    def fitness(self, sol):\n",
    "        \"\"\" Objective value of a solution \"\"\"\n",
    "        return totalDist(sol, self.allDist)\n",
    "\n",
    "    # acceptance propability\n",
    "    def p_accept(self, candidate_fitness):\n",
    "        \"\"\"\n",
    "        Probability of accepting if the candidate is worse than current\n",
    "        Depends on the current temperature and difference between candidate and current\n",
    "        \"\"\"\n",
    "        return math.exp(-abs(candidate_fitness - self.cur_fitness) / self.T)\n",
    "\n",
    "    def accept(self, candidate):\n",
    "        \"\"\"\n",
    "        Accept with probability 1 if candidate is better than current\n",
    "        Accept with probabilty p_accept(..) if candidate is worse\n",
    "        \"\"\"\n",
    "        candidate_fitness = self.fitness(candidate)\n",
    "        # test if fitness is smaller then the current one\n",
    "        if candidate_fitness < self.cur_fitness:\n",
    "            self.cur_fitness = candidate_fitness\n",
    "            self.cur_solution = candidate\n",
    "            # test if fitness is better than best so far, keep it as best if so\n",
    "            if candidate_fitness < self.best_fitness:\n",
    "                self.best_fitness = candidate_fitness\n",
    "                self.best_solution = candidate\n",
    "\n",
    "        # if solution is worst than the current one, there is still a possibility to pursue it\n",
    "        else:\n",
    "            if random.random() < self.p_accept(candidate_fitness):\n",
    "                self.cur_fitness = candidate_fitness\n",
    "                self.cur_solution = candidate\n",
    "\n",
    "    def anneal(self):\n",
    "        \"\"\"\n",
    "        Execute simulated annealing algorithm\n",
    "        \"\"\"\n",
    "        # go through the temperature schedule\n",
    "        print(self.T)\n",
    "        print(self.stopping_temperature)\n",
    "        while (self.T >= self.stopping_temperature) and (self.iteration < self.stopping_iter):\n",
    "            # explore current solution\n",
    "            candidate = list(self.cur_solution)\n",
    "            # modify the solution to switch two cities\n",
    "            # first chosen city between [2,N-1] - not changing the first city\n",
    "            l = random.randint(2, self.N - 1)\n",
    "            # second city between [0,N-1] Not sure why ??\n",
    "            i = random.randint(0, self.N - l)\n",
    "            # the chosen nodes are switch\n",
    "            candidate[i:(i + l)] = reversed(candidate[i:(i + l)])\n",
    "            # perform acceptance test \n",
    "            self.accept(candidate)\n",
    "            # multiply the temperature by alpha (this will reduce it)\n",
    "            self.T *= self.alpha\n",
    "            self.iteration += 1\n",
    "            \n",
    "            # add current fitness to list (to be able to display)\n",
    "            self.fitness_list.append(self.cur_fitness)\n",
    "\n",
    "        print('Best fitness obtained: ', self.best_fitness)\n",
    "        print(self.improvementMessage,\n",
    "              round((self.initial_fitness - self.best_fitness) / (self.initial_fitness), 4))\n",
    "\n",
    "        return self.best_solution\n",
    "    \n",
    "    def plot_learning(self):\n",
    "        \"\"\"\n",
    "        Plot the fitness through iterations\n",
    "        \"\"\"\n",
    "        plt.plot([i for i in range(len(self.fitness_list))], self.fitness_list)\n",
    "        plt.ylabel('Fitness')\n",
    "        plt.xlabel('Iteration')\n",
    "        plt.show()\n"
   ]
  },
  {
   "cell_type": "markdown",
   "metadata": {},
   "source": [
    "#### 7. Raffinement d'une solution avec recuit simulé"
   ]
  },
  {
   "cell_type": "markdown",
   "metadata": {},
   "source": [
    "Avant de faire une modification, dans un algorithme de modification aléatoire tel que le recuit simulé, nous devons avoir une solution de départ. Une telle solution de départ peut être fournie par un algorithme glouton, ou si nous avons autre chose, comme l'algorithme étape aléatoire sur lequel nous avons travaillé dans les sections précédentes, nous pouvons l'utiliser aussi comme point de départ."
   ]
  },
  {
   "cell_type": "markdown",
   "metadata": {},
   "source": [
    "**(TO DO) Q7 - 2 points**  \n",
    "Mettez des commentaires dans le code ci-dessous pour expliquer ce qu'il fait. Dans vos commentaires, expliquez quels sont les différents réglages des paramètres, lors de l'appel à SimAnneal. Exécutez-le également plusieurs fois. Cela vous montrera comment il peut y avoir une amélioration (ou non) de la solution gloutonne ou de la solution étape aléatoire à la solution de recuit simulé."
   ]
  },
  {
   "cell_type": "code",
   "execution_count": null,
   "metadata": {},
   "outputs": [],
   "source": [
    "# RÉPONSE - Q7\n",
    "# Include comments in the code\n",
    "\n",
    "# \n",
    "firstSol = greedy_solution(moreCities)\n",
    "distances = distDict(moreCities)\n",
    "print('Solution {} takes a total of {}'.format(firstSol,totalDist(firstSol, distances)))\n",
    "showPath(firstSol, moreCities)\n",
    "\n",
    "# \n",
    "sa = SimAnneal(moreCities, False)\n",
    "betterSol = sa.anneal()\n",
    "showPath(betterSol, moreCities)\n",
    "\n",
    "#\n",
    "secondSol = random_step(moreCities, 4)\n",
    "print('Solution {} takes a total of {}'.format(secondSol,totalDist(secondSol, distances)))\n",
    "showPath(secondSol, moreCities)\n",
    "\n",
    "#\n",
    "sa2 = SimAnneal(moreCities, True, 4)\n",
    "betterSol2 = sa2.anneal()\n",
    "showPath(betterSol2, moreCities)"
   ]
  },
  {
   "cell_type": "markdown",
   "metadata": {},
   "source": [
    "**8. Test à plus grande échelle**  \n",
    "Le fichier *coord.txt* (que vous trouverez aussi sur Brightspace dans la section des Jupyter Notebooks), contient un ensemble de coordonnées. Ce fichier de données est aussi tiré du github https://github.com/chncyhn/simulated-annealing-tsp.  Voici le début du fichier.\n",
    "\n",
    "1 0 0  \n",
    "2 3 5  \n",
    "3 2.5 9  \n",
    "4 48 16  \n",
    "5 48 17  \n",
    "6 69 16  \n",
    "...  \n",
    "\n",
    "Nous utiliserons le chiffre de la première colonne comme étiquette de la ville (e.g. ville 0, ville 1, ...) et les deux autres colonnes comme les coordonnées.\n",
    "\n",
    "Assurez-vous de mettre le fichier *coord.txt* dans le même répertoire que votre notebook (ou sinon changer le chemin d'accès dans le code ci-bas)."
   ]
  },
  {
   "cell_type": "code",
   "execution_count": null,
   "metadata": {},
   "outputs": [],
   "source": [
    "# reading the coordinates\n",
    "manyCities = {}\n",
    "with open('coord.txt','r') as f:\n",
    "    i = 0\n",
    "    for line in f.readlines():\n",
    "        line = [float(x.replace('\\n','')) for x in line.split(' ')]\n",
    "        label = str(int(line[0]))\n",
    "        manyCities[label] = (line[1], line[2])\n",
    "        i += 1"
   ]
  },
  {
   "cell_type": "markdown",
   "metadata": {},
   "source": [
    "Visualisons où sont les noeuds pour cet exemple."
   ]
  },
  {
   "cell_type": "code",
   "execution_count": null,
   "metadata": {},
   "outputs": [],
   "source": [
    "showNodes(manyCities, size=(15,15), xLim=[-75,100], yLim=[-110,60])"
   ]
  },
  {
   "cell_type": "markdown",
   "metadata": {},
   "source": [
    "Nous pouvons maintenant tester le processus de *recuit simulé* sur ce plus grand exemple.  Le code test est très similaire au code que vous avez commenté à la question (5) ci-haut.  Regarder l'étape supplémentaire, *plot_learning*, qui montre la valeur de la fonction de coût au fur et à mesure de la progression de l'algorithme. Exécutez-le plusieurs fois, c'est une approche probabiliste, donc le résultat peut être légèrement différent à chaque fois."
   ]
  },
  {
   "cell_type": "code",
   "execution_count": null,
   "metadata": {},
   "outputs": [],
   "source": [
    "firstSol = greedy_solution(manyCities)\n",
    "distances = distDict(manyCities)\n",
    "print('Solution {} takes a total of {}'.format(firstSol,totalDist(firstSol, distances)))\n",
    "showPath(firstSol, manyCities, size=(15,15), xLim=[-75,100], yLim=[-110,60])\n",
    "\n",
    "sa = SimAnneal(manyCities, False)\n",
    "betterSol = sa.anneal()\n",
    "sa.plot_learning()\n",
    "showPath(betterSol, manyCities, size=(15,15), xLim=[-75,100], yLim=[-110,60])\n",
    "\n",
    "secondSol = random_step(manyCities, 3)\n",
    "print('Solution {} takes a total of {}'.format(secondSol,totalDist(secondSol, distances)))\n",
    "showPath(firstSol, manyCities, size=(15,15), xLim=[-75,100], yLim=[-110,60])\n",
    "\n",
    "sa2 = SimAnneal(manyCities, True, 4)\n",
    "betterSol2 = sa2.anneal()\n",
    "sa2.plot_learning()\n",
    "showPath(betterSol2, manyCities, size=(15,15), xLim=[-75,100], yLim=[-110,60])"
   ]
  },
  {
   "cell_type": "markdown",
   "metadata": {},
   "source": [
    "**(TO DO) Q8 - 5 points**  \n",
    "Comme nous l'avons vu dans les vidéos du cours et effectué à la question 6, l'évaluation des algorithmes qui incluent une composante aléatoire doit être effectuée en faisant la moyenne d'une série d'exécutions. Définissez et effectuez des tests dans lesquels vous comparerez, sur le grand exemple (manyCities) les trois algorithmes explorés dans ce cahier : recherche gloutonne, étape aléatoire, recuit simulé. Pour le recuit simulé, testez au moins 2 configurations (que vous avez vues en commentant le code en Q7). Après vos tests, discutez des résultats."
   ]
  },
  {
   "cell_type": "code",
   "execution_count": null,
   "metadata": {},
   "outputs": [],
   "source": [
    "# RÉPONSE Q8 - Coding\n",
    "# Each student should perform multiple runs of each algorithm and show results\n",
    "# Greedy tests\n",
    "\n",
    "# Random Step tests\n",
    "\n",
    "# Simulated Annealing (configuration 1 tests)\n",
    "\n",
    "# Simulated Annealing (configuration 2 tests)\n"
   ]
  },
  {
   "cell_type": "markdown",
   "metadata": {},
   "source": [
    "RÉPONSE - Q8 - Partie discussion \\\n",
    "...\n"
   ]
  },
  {
   "cell_type": "markdown",
   "metadata": {},
   "source": [
    "#### Signature\n",
    "\n",
    "Je, -------VOTRE NOM--------------, déclare que les réponses inscrites dans ce notebook sont les miennes."
   ]
  }
 ],
 "metadata": {
  "kernelspec": {
   "display_name": "Python 3 (ipykernel)",
   "language": "python",
   "name": "python3"
  },
  "language_info": {
   "codemirror_mode": {
    "name": "ipython",
    "version": 3
   },
   "file_extension": ".py",
   "mimetype": "text/x-python",
   "name": "python",
   "nbconvert_exporter": "python",
   "pygments_lexer": "ipython3",
   "version": "3.7.3"
  }
 },
 "nbformat": 4,
 "nbformat_minor": 2
}
