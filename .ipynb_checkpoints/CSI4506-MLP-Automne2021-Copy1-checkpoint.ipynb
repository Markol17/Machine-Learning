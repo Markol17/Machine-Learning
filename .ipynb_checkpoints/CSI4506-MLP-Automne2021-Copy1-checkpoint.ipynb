{
 "cells": [
  {
   "cell_type": "markdown",
   "metadata": {
    "id": "-S_Ef-k2P8fl"
   },
   "source": [
    "# <span style='color:#00BB27'>Notebook 6 - Réseaux de neuronnes</span>\n",
    "\n",
    "### Perceptron multi-couches"
   ]
  },
  {
   "cell_type": "markdown",
   "metadata": {
    "id": "aTwWcSPqP8fs"
   },
   "source": [
    "CSI4506 Intelligence Artificielle \\\n",
    "Automne 2021 \\\n",
    "Version 1 (2020) préparée par Caroline Barrière, Julian Templeton et Joel Muteba.  Version 2 (2021) modifiée par Caroline Barrière.\n",
    "\n",
    "***"
   ]
  },
  {
   "cell_type": "markdown",
   "metadata": {
    "id": "fyyRSuiLP8ft"
   },
   "source": [
    "***INTRODUCTION:***\n",
    "\n",
    "Nous allons vers le domaine médical pour ce notebook.  La tâche de classification supervisée que nous attaquons est à propos de la réadmission de patients diabétiques dans les hôpitaux, et ce en lien avec plusieurs attributs décrivant leur état physique, les procédures médicales suivies, les médicaments prescrits, etc.\n",
    "\n",
    "Tout *patient réadmis* est très dispendieux pour un système médical.  Cela montre, jusqu'à un certain point, qu'un patient a été retourné chez lui trop rapidement, avant qu'il se soit complètement rétabli.  L'ensemble de données que nous explorons classifie les réadmissions en trois valeurs: moins de 30 jours, plus de 30 jours, et aucune.\n",
    "\n",
    "Ce notebook vous permettra de poursuivre votre compréhension de design expérimental pour l'apprentissage machine supervisé, en particulier la classification supervisée.  Cela vous permettra aussi de vous familiariser avec le perceptron multi-couches.\n",
    "\n",
    "Nous ferons usage de trois packages: (1) **scikit-learn**, un très bon package pour l'apprentissage machine, vous l'avez déjà expérimenté dans votre dernier notebook, (2) **pandas**, un package très utile pour les sciences des données et (3) **matplotlib** qui est très utile pour visualiser vos données (pip install matplotlib). Assurez-vous d'avoir installé une version récente de scikit-learn (à partir de la version 0.20), sinon certaines classes (le one-hot-encoder) ne fonctionneront pas.\n",
    "\n",
    "Encore une fois, si vous avez des difficultés avec l'installation locale, vous avez toujours l'option de travailler sur Colab. \n",
    "\n",
    "*ATTENTION:* Comme ce notebook est votre 6ième ce semestre, certaines instructions sont moins explicites pour vous laisser plus de flexibilité dans votre code et vos réponses théoriques. Si vous faites des hypothèses pour vos réponses, énoncez-les pour vous assurez qu'elles soient prises en compte lors de la correction.\n",
    "\n",
    "***"
   ]
  },
  {
   "cell_type": "markdown",
   "metadata": {
    "id": "RZJv34SQP8fv"
   },
   "source": [
    "***DEVOIR***:  \n",
    "\n",
    "Parcourir le notebook, en exécutant chaque cellule, une à une.\n",
    "\n",
    "Pour chaque **(TO DO)**, effectuer les tâches demandées. Ne modifiez pas le code en dehors des questions à moins demandé explicitement. Quand vous avez terminé, signez, personalisez le nom du notebook (numéroEtudiant-NomFamille-Notebook6.ipynb), et soumettez-le.\n",
    "\n",
    "*Ce notebook sera évalué sur 30*. \\\n",
    "Chaque **(TO DO)** a un nombre de points qui lui sont assignés.\n",
    "\n",
    "***"
   ]
  },
  {
   "cell_type": "markdown",
   "metadata": {
    "id": "_rXNZPilP8fw"
   },
   "source": [
    "**1. Obtenir le dataset**\n",
    "\n",
    "D'abord, lisez la description de l'ensemble de données sur la réadmission de patients diabétiques (https://www.kaggle.com/brandao/diabetes). \n",
    "\n",
    "Télécharger les données (cliquer *Data Folder* --> fichier *dataset_diabetes.zip*) à partir de l'archive UCI:\n",
    "https://archive.ics.uci.edu/ml/datasets/Diabetes+130-US+hospitals+for+years+1999-2008\n",
    "\n",
    "Dans le fichier *dataset_diabetes.zip*, vous trouverez un fichier appelé *diabetic_data.csv* que nous utiliserons pour notre expérimentation. "
   ]
  },
  {
   "cell_type": "markdown",
   "metadata": {
    "id": "VAZSyV0qP8fx"
   },
   "source": [
    "**2. Explorer l'ensemble de données**  \n",
    "Nous utiliserons le package *pandas* pour lire le fichier csv.  Cela crée une structure de donnée appelée *dataframe* qui contient toutes les données.\n",
    "\n",
    "Si vous avez des erreurs en important les packages, c'est peut-être qu'ils ne sont pas installés.  Assurez-vous de faire *pip install nom_du_package* à l'invite de commande pour installer les packages requis."
   ]
  },
  {
   "cell_type": "code",
   "execution_count": 1,
   "metadata": {
    "id": "sBjt7NBVP8fz"
   },
   "outputs": [],
   "source": [
    "# Importation des packages pour l'analyse des données et ML\n",
    "import pandas as pd\n",
    "import sklearn\n",
    "import matplotlib.pyplot as plt"
   ]
  },
  {
   "cell_type": "markdown",
   "metadata": {
    "id": "GFK3pckSP8f2"
   },
   "source": [
    "Le code qui suit lit le fichier csv et montre les dix premières lignes du dataset.  Notez que le ? indique une valeur manquante pour un attribut.  Nous listons ensuite tous les attributs.  Pour comprendre la signification de chaque attribut, référez-vous au site Kaggle, tel que mentionné dans l'introduction."
   ]
  },
  {
   "cell_type": "code",
   "execution_count": 2,
   "metadata": {
    "id": "EPTWmLcKP8f3"
   },
   "outputs": [
    {
     "data": {
      "text/html": [
       "<div>\n",
       "<style scoped>\n",
       "    .dataframe tbody tr th:only-of-type {\n",
       "        vertical-align: middle;\n",
       "    }\n",
       "\n",
       "    .dataframe tbody tr th {\n",
       "        vertical-align: top;\n",
       "    }\n",
       "\n",
       "    .dataframe thead th {\n",
       "        text-align: right;\n",
       "    }\n",
       "</style>\n",
       "<table border=\"1\" class=\"dataframe\">\n",
       "  <thead>\n",
       "    <tr style=\"text-align: right;\">\n",
       "      <th></th>\n",
       "      <th>encounter_id</th>\n",
       "      <th>patient_nbr</th>\n",
       "      <th>race</th>\n",
       "      <th>gender</th>\n",
       "      <th>age</th>\n",
       "      <th>weight</th>\n",
       "      <th>admission_type_id</th>\n",
       "      <th>discharge_disposition_id</th>\n",
       "      <th>admission_source_id</th>\n",
       "      <th>time_in_hospital</th>\n",
       "      <th>...</th>\n",
       "      <th>citoglipton</th>\n",
       "      <th>insulin</th>\n",
       "      <th>glyburide-metformin</th>\n",
       "      <th>glipizide-metformin</th>\n",
       "      <th>glimepiride-pioglitazone</th>\n",
       "      <th>metformin-rosiglitazone</th>\n",
       "      <th>metformin-pioglitazone</th>\n",
       "      <th>change</th>\n",
       "      <th>diabetesMed</th>\n",
       "      <th>readmitted</th>\n",
       "    </tr>\n",
       "  </thead>\n",
       "  <tbody>\n",
       "    <tr>\n",
       "      <th>0</th>\n",
       "      <td>2278392</td>\n",
       "      <td>8222157</td>\n",
       "      <td>Caucasian</td>\n",
       "      <td>Female</td>\n",
       "      <td>[0-10)</td>\n",
       "      <td>?</td>\n",
       "      <td>6</td>\n",
       "      <td>25</td>\n",
       "      <td>1</td>\n",
       "      <td>1</td>\n",
       "      <td>...</td>\n",
       "      <td>No</td>\n",
       "      <td>No</td>\n",
       "      <td>No</td>\n",
       "      <td>No</td>\n",
       "      <td>No</td>\n",
       "      <td>No</td>\n",
       "      <td>No</td>\n",
       "      <td>No</td>\n",
       "      <td>No</td>\n",
       "      <td>NO</td>\n",
       "    </tr>\n",
       "    <tr>\n",
       "      <th>1</th>\n",
       "      <td>149190</td>\n",
       "      <td>55629189</td>\n",
       "      <td>Caucasian</td>\n",
       "      <td>Female</td>\n",
       "      <td>[10-20)</td>\n",
       "      <td>?</td>\n",
       "      <td>1</td>\n",
       "      <td>1</td>\n",
       "      <td>7</td>\n",
       "      <td>3</td>\n",
       "      <td>...</td>\n",
       "      <td>No</td>\n",
       "      <td>Up</td>\n",
       "      <td>No</td>\n",
       "      <td>No</td>\n",
       "      <td>No</td>\n",
       "      <td>No</td>\n",
       "      <td>No</td>\n",
       "      <td>Ch</td>\n",
       "      <td>Yes</td>\n",
       "      <td>&gt;30</td>\n",
       "    </tr>\n",
       "    <tr>\n",
       "      <th>2</th>\n",
       "      <td>64410</td>\n",
       "      <td>86047875</td>\n",
       "      <td>AfricanAmerican</td>\n",
       "      <td>Female</td>\n",
       "      <td>[20-30)</td>\n",
       "      <td>?</td>\n",
       "      <td>1</td>\n",
       "      <td>1</td>\n",
       "      <td>7</td>\n",
       "      <td>2</td>\n",
       "      <td>...</td>\n",
       "      <td>No</td>\n",
       "      <td>No</td>\n",
       "      <td>No</td>\n",
       "      <td>No</td>\n",
       "      <td>No</td>\n",
       "      <td>No</td>\n",
       "      <td>No</td>\n",
       "      <td>No</td>\n",
       "      <td>Yes</td>\n",
       "      <td>NO</td>\n",
       "    </tr>\n",
       "    <tr>\n",
       "      <th>3</th>\n",
       "      <td>500364</td>\n",
       "      <td>82442376</td>\n",
       "      <td>Caucasian</td>\n",
       "      <td>Male</td>\n",
       "      <td>[30-40)</td>\n",
       "      <td>?</td>\n",
       "      <td>1</td>\n",
       "      <td>1</td>\n",
       "      <td>7</td>\n",
       "      <td>2</td>\n",
       "      <td>...</td>\n",
       "      <td>No</td>\n",
       "      <td>Up</td>\n",
       "      <td>No</td>\n",
       "      <td>No</td>\n",
       "      <td>No</td>\n",
       "      <td>No</td>\n",
       "      <td>No</td>\n",
       "      <td>Ch</td>\n",
       "      <td>Yes</td>\n",
       "      <td>NO</td>\n",
       "    </tr>\n",
       "    <tr>\n",
       "      <th>4</th>\n",
       "      <td>16680</td>\n",
       "      <td>42519267</td>\n",
       "      <td>Caucasian</td>\n",
       "      <td>Male</td>\n",
       "      <td>[40-50)</td>\n",
       "      <td>?</td>\n",
       "      <td>1</td>\n",
       "      <td>1</td>\n",
       "      <td>7</td>\n",
       "      <td>1</td>\n",
       "      <td>...</td>\n",
       "      <td>No</td>\n",
       "      <td>Steady</td>\n",
       "      <td>No</td>\n",
       "      <td>No</td>\n",
       "      <td>No</td>\n",
       "      <td>No</td>\n",
       "      <td>No</td>\n",
       "      <td>Ch</td>\n",
       "      <td>Yes</td>\n",
       "      <td>NO</td>\n",
       "    </tr>\n",
       "    <tr>\n",
       "      <th>5</th>\n",
       "      <td>35754</td>\n",
       "      <td>82637451</td>\n",
       "      <td>Caucasian</td>\n",
       "      <td>Male</td>\n",
       "      <td>[50-60)</td>\n",
       "      <td>?</td>\n",
       "      <td>2</td>\n",
       "      <td>1</td>\n",
       "      <td>2</td>\n",
       "      <td>3</td>\n",
       "      <td>...</td>\n",
       "      <td>No</td>\n",
       "      <td>Steady</td>\n",
       "      <td>No</td>\n",
       "      <td>No</td>\n",
       "      <td>No</td>\n",
       "      <td>No</td>\n",
       "      <td>No</td>\n",
       "      <td>No</td>\n",
       "      <td>Yes</td>\n",
       "      <td>&gt;30</td>\n",
       "    </tr>\n",
       "    <tr>\n",
       "      <th>6</th>\n",
       "      <td>55842</td>\n",
       "      <td>84259809</td>\n",
       "      <td>Caucasian</td>\n",
       "      <td>Male</td>\n",
       "      <td>[60-70)</td>\n",
       "      <td>?</td>\n",
       "      <td>3</td>\n",
       "      <td>1</td>\n",
       "      <td>2</td>\n",
       "      <td>4</td>\n",
       "      <td>...</td>\n",
       "      <td>No</td>\n",
       "      <td>Steady</td>\n",
       "      <td>No</td>\n",
       "      <td>No</td>\n",
       "      <td>No</td>\n",
       "      <td>No</td>\n",
       "      <td>No</td>\n",
       "      <td>Ch</td>\n",
       "      <td>Yes</td>\n",
       "      <td>NO</td>\n",
       "    </tr>\n",
       "    <tr>\n",
       "      <th>7</th>\n",
       "      <td>63768</td>\n",
       "      <td>114882984</td>\n",
       "      <td>Caucasian</td>\n",
       "      <td>Male</td>\n",
       "      <td>[70-80)</td>\n",
       "      <td>?</td>\n",
       "      <td>1</td>\n",
       "      <td>1</td>\n",
       "      <td>7</td>\n",
       "      <td>5</td>\n",
       "      <td>...</td>\n",
       "      <td>No</td>\n",
       "      <td>No</td>\n",
       "      <td>No</td>\n",
       "      <td>No</td>\n",
       "      <td>No</td>\n",
       "      <td>No</td>\n",
       "      <td>No</td>\n",
       "      <td>No</td>\n",
       "      <td>Yes</td>\n",
       "      <td>&gt;30</td>\n",
       "    </tr>\n",
       "    <tr>\n",
       "      <th>8</th>\n",
       "      <td>12522</td>\n",
       "      <td>48330783</td>\n",
       "      <td>Caucasian</td>\n",
       "      <td>Female</td>\n",
       "      <td>[80-90)</td>\n",
       "      <td>?</td>\n",
       "      <td>2</td>\n",
       "      <td>1</td>\n",
       "      <td>4</td>\n",
       "      <td>13</td>\n",
       "      <td>...</td>\n",
       "      <td>No</td>\n",
       "      <td>Steady</td>\n",
       "      <td>No</td>\n",
       "      <td>No</td>\n",
       "      <td>No</td>\n",
       "      <td>No</td>\n",
       "      <td>No</td>\n",
       "      <td>Ch</td>\n",
       "      <td>Yes</td>\n",
       "      <td>NO</td>\n",
       "    </tr>\n",
       "    <tr>\n",
       "      <th>9</th>\n",
       "      <td>15738</td>\n",
       "      <td>63555939</td>\n",
       "      <td>Caucasian</td>\n",
       "      <td>Female</td>\n",
       "      <td>[90-100)</td>\n",
       "      <td>?</td>\n",
       "      <td>3</td>\n",
       "      <td>3</td>\n",
       "      <td>4</td>\n",
       "      <td>12</td>\n",
       "      <td>...</td>\n",
       "      <td>No</td>\n",
       "      <td>Steady</td>\n",
       "      <td>No</td>\n",
       "      <td>No</td>\n",
       "      <td>No</td>\n",
       "      <td>No</td>\n",
       "      <td>No</td>\n",
       "      <td>Ch</td>\n",
       "      <td>Yes</td>\n",
       "      <td>NO</td>\n",
       "    </tr>\n",
       "  </tbody>\n",
       "</table>\n",
       "<p>10 rows × 50 columns</p>\n",
       "</div>"
      ],
      "text/plain": [
       "   encounter_id  patient_nbr             race  gender       age weight  \\\n",
       "0       2278392      8222157        Caucasian  Female    [0-10)      ?   \n",
       "1        149190     55629189        Caucasian  Female   [10-20)      ?   \n",
       "2         64410     86047875  AfricanAmerican  Female   [20-30)      ?   \n",
       "3        500364     82442376        Caucasian    Male   [30-40)      ?   \n",
       "4         16680     42519267        Caucasian    Male   [40-50)      ?   \n",
       "5         35754     82637451        Caucasian    Male   [50-60)      ?   \n",
       "6         55842     84259809        Caucasian    Male   [60-70)      ?   \n",
       "7         63768    114882984        Caucasian    Male   [70-80)      ?   \n",
       "8         12522     48330783        Caucasian  Female   [80-90)      ?   \n",
       "9         15738     63555939        Caucasian  Female  [90-100)      ?   \n",
       "\n",
       "   admission_type_id  discharge_disposition_id  admission_source_id  \\\n",
       "0                  6                        25                    1   \n",
       "1                  1                         1                    7   \n",
       "2                  1                         1                    7   \n",
       "3                  1                         1                    7   \n",
       "4                  1                         1                    7   \n",
       "5                  2                         1                    2   \n",
       "6                  3                         1                    2   \n",
       "7                  1                         1                    7   \n",
       "8                  2                         1                    4   \n",
       "9                  3                         3                    4   \n",
       "\n",
       "   time_in_hospital  ... citoglipton insulin  glyburide-metformin  \\\n",
       "0                 1  ...          No      No                   No   \n",
       "1                 3  ...          No      Up                   No   \n",
       "2                 2  ...          No      No                   No   \n",
       "3                 2  ...          No      Up                   No   \n",
       "4                 1  ...          No  Steady                   No   \n",
       "5                 3  ...          No  Steady                   No   \n",
       "6                 4  ...          No  Steady                   No   \n",
       "7                 5  ...          No      No                   No   \n",
       "8                13  ...          No  Steady                   No   \n",
       "9                12  ...          No  Steady                   No   \n",
       "\n",
       "   glipizide-metformin  glimepiride-pioglitazone  metformin-rosiglitazone  \\\n",
       "0                   No                        No                       No   \n",
       "1                   No                        No                       No   \n",
       "2                   No                        No                       No   \n",
       "3                   No                        No                       No   \n",
       "4                   No                        No                       No   \n",
       "5                   No                        No                       No   \n",
       "6                   No                        No                       No   \n",
       "7                   No                        No                       No   \n",
       "8                   No                        No                       No   \n",
       "9                   No                        No                       No   \n",
       "\n",
       "   metformin-pioglitazone  change diabetesMed readmitted  \n",
       "0                      No      No          No         NO  \n",
       "1                      No      Ch         Yes        >30  \n",
       "2                      No      No         Yes         NO  \n",
       "3                      No      Ch         Yes         NO  \n",
       "4                      No      Ch         Yes         NO  \n",
       "5                      No      No         Yes        >30  \n",
       "6                      No      Ch         Yes         NO  \n",
       "7                      No      No         Yes        >30  \n",
       "8                      No      Ch         Yes         NO  \n",
       "9                      No      Ch         Yes         NO  \n",
       "\n",
       "[10 rows x 50 columns]"
      ]
     },
     "execution_count": 2,
     "metadata": {},
     "output_type": "execute_result"
    }
   ],
   "source": [
    "# Importer les données et imprimer les cinqs premières lignes\n",
    "X = pd.read_csv(\"diabetic_data.csv\")\n",
    "X.head(10)"
   ]
  },
  {
   "cell_type": "code",
   "execution_count": 3,
   "metadata": {
    "id": "LK3Bud9IP8f5"
   },
   "outputs": [
    {
     "data": {
      "text/plain": [
       "['encounter_id',\n",
       " 'patient_nbr',\n",
       " 'race',\n",
       " 'gender',\n",
       " 'age',\n",
       " 'weight',\n",
       " 'admission_type_id',\n",
       " 'discharge_disposition_id',\n",
       " 'admission_source_id',\n",
       " 'time_in_hospital',\n",
       " 'payer_code',\n",
       " 'medical_specialty',\n",
       " 'num_lab_procedures',\n",
       " 'num_procedures',\n",
       " 'num_medications',\n",
       " 'number_outpatient',\n",
       " 'number_emergency',\n",
       " 'number_inpatient',\n",
       " 'diag_1',\n",
       " 'diag_2',\n",
       " 'diag_3',\n",
       " 'number_diagnoses',\n",
       " 'max_glu_serum',\n",
       " 'A1Cresult',\n",
       " 'metformin',\n",
       " 'repaglinide',\n",
       " 'nateglinide',\n",
       " 'chlorpropamide',\n",
       " 'glimepiride',\n",
       " 'acetohexamide',\n",
       " 'glipizide',\n",
       " 'glyburide',\n",
       " 'tolbutamide',\n",
       " 'pioglitazone',\n",
       " 'rosiglitazone',\n",
       " 'acarbose',\n",
       " 'miglitol',\n",
       " 'troglitazone',\n",
       " 'tolazamide',\n",
       " 'examide',\n",
       " 'citoglipton',\n",
       " 'insulin',\n",
       " 'glyburide-metformin',\n",
       " 'glipizide-metformin',\n",
       " 'glimepiride-pioglitazone',\n",
       " 'metformin-rosiglitazone',\n",
       " 'metformin-pioglitazone',\n",
       " 'change',\n",
       " 'diabetesMed',\n",
       " 'readmitted']"
      ]
     },
     "execution_count": 3,
     "metadata": {},
     "output_type": "execute_result"
    }
   ],
   "source": [
    "# Imprimer tous les attributs\n",
    "list(X)"
   ]
  },
  {
   "cell_type": "code",
   "execution_count": 4,
   "metadata": {
    "id": "kkYBCpNsP8f6"
   },
   "outputs": [
    {
     "name": "stdout",
     "output_type": "stream",
     "text": [
      "(101766, 50)\n",
      "Caucasian          76099\n",
      "AfricanAmerican    19210\n",
      "?                   2273\n",
      "Hispanic            2037\n",
      "Other               1506\n",
      "Asian                641\n",
      "Name: race, dtype: int64\n"
     ]
    }
   ],
   "source": [
    "# Exemple d'exploration de données\n",
    "print(X.shape)\n",
    "print(X['race'].value_counts())"
   ]
  },
  {
   "cell_type": "markdown",
   "metadata": {
    "id": "DePW8WiGP8f7"
   },
   "source": [
    "**<span style='color:#00BB27'>(TO DO) Q1 - 3 points<span>**  \n",
    "Inspiré des quelques lignes de code ci-haut, écrivez du code pour répondre aux questions suivantes.  Assurez-vous de ne pas imprimer seulement un nombre ou une liste avec votre code, mais imprimez aussi ce que cela représente. \n",
    "\n",
    "1. Combien d'exemples y a-t-il dans le dataset?\n",
    "2. Quelles sont les probabilités a priori de chaque classe (NO, <30,> 30)?\n",
    "3. Quelles sont les gammes de valeurs (incluant ?) possible pour l'attribut 'weight' ainsi que le nombre d'exemples pour chacune?\n"
   ]
  },
  {
   "cell_type": "code",
   "execution_count": 22,
   "metadata": {
    "id": "-HM9rLCbP8f8"
   },
   "outputs": [
    {
     "name": "stdout",
     "output_type": "stream",
     "text": [
      "Il y a 101766 exemples dans le dataset \n",
      "\n",
      "La probabilité a priori pour la classe '<30' est 11.159915885462727%\n",
      "La probabilité a priori pour la classe '>30' est  34.92816854352141%\n",
      "La probabilité a priori pour la classe 'NO' est 53.911915571015854% \n",
      "\n",
      "Les gammes des valeurs pour 'weight' et leurs nombre d'exemples est:\n",
      "?            98569\n",
      "[75-100)      1336\n",
      "[50-75)        897\n",
      "[100-125)      625\n",
      "[125-150)      145\n",
      "[25-50)         97\n",
      "[0-25)          48\n",
      "[150-175)       35\n",
      "[175-200)       11\n",
      ">200             3\n",
      "Name: weight, dtype: int64\n"
     ]
    }
   ],
   "source": [
    "# RÉPONSE Q1 - \n",
    "### Votre CODE -- Répondez aux trois questions:\n",
    "\n",
    "# 1:\n",
    "print(\"Il y a {} exemples dans le dataset\".format(X.shape[0]), '\\n')\n",
    "\n",
    "# 2:\n",
    "col=X['readmitted']\n",
    "total = len(col)\n",
    "plusDe30 = 0\n",
    "moinsDe30 = 0\n",
    "nonAdmis = 0\n",
    "for i in col:\n",
    "    if i == \"NO\":\n",
    "        nonAdmis+=1\n",
    "    if i == \">30\":\n",
    "        plusDe30+=1\n",
    "    if i == \"<30\":\n",
    "        moinsDe30+=1\n",
    "print(\"La probabilité a priori pour la classe '<30' est {}%\".format((moinsDe30/total)*100))\n",
    "print(\"La probabilité a priori pour la classe '>30' est  {}%\".format((plusDe30/total)*100))\n",
    "print(\"La probabilité a priori pour la classe 'NO' est {}%\".format((nonAdmis/total)*100), '\\n')\n",
    "\n",
    "# 3:\n",
    "print(\"Les gammes des valeurs pour 'weight' et leurs nombre d'exemples est:\")\n",
    "print(X['weight'].value_counts())"
   ]
  },
  {
   "cell_type": "markdown",
   "metadata": {
    "id": "0vnrd69mP8f8"
   },
   "source": [
    "**3. Sélection des attributs**  \n",
    "Maintenant que nous avons examiné nos données, nous allons décider quels attributs conviendraient avec notre modèle.\n",
    "\n",
    "La sélection des attributs est tout aussi importante que le réglage d'un modèle (choisir des hyperparamètres). Nous devons nous assurer de choisir des attributs de haute qualité qui représentent le mieux nos données afin de maximiser les performances de notre modèle. Mettre simplement chaque attribut ou en sélectionner certaines sans les analyser peut donner de mauvais résultats. Par conséquent, nous devons déterminer les attributs à utiliser en examinant les données elles-mêmes pour déterminer si elles conviendraient bien au problème.\n",
    "\n",
    "Certains problèmes lors de l'utilisation de certains attributs incluent:  \n",
    "1. Les valeurs sont-elles bien distribuées? En d’autres termes, y a-t-il une variation dans les valeurs qui permettrait une séparation en classes?\n",
    "2. Y a-t-il des valeurs manquantes? Plus il y a de valeurs manquantes pour un attribut, moins cet attribut sera utile pour de nombreux algorithmes d’apprentissage automatique. Ici, nous ne nous concentrerons pas sur cette question, mais il est important de le savoir.\n",
    "3. Est-ce que les données (discrètes, continues) fonctionnent bien avec notre algorithme sélectionné? Nous pourrons faire des adaptations en conséquence.\n",
    "\n"
   ]
  },
  {
   "cell_type": "markdown",
   "metadata": {
    "id": "sTSw7V6wP8f9"
   },
   "source": [
    "**<span style='color:#00BB27'>(TO DO) Q2 - 4 points<span>**   \n",
    "Vous avez vu, quand vous avez imprimé la liste d'attributs ci-haut, qu'il existe plusieurs attributs dans l'ensemble des données.  Nous n'avons pas le temps, dans le cadre de ce notebook, de les explorer tous.  Nous en avons donc pré-sélectionné 4 à explorer:\n",
    "\n",
    "1. gender \n",
    "2. age \n",
    "3. weight \n",
    "4. num_medications\n",
    "\n",
    "Vous devez explorer chacun des quatres attributs en répondant aux questions suivantes pour chacun:\n",
    "\n",
    "**1)** Afficher la distribution (histogramme utilisant kind = \"hist\" pour les données numériques ou en barres utilisant kind = \"barh\" pour les données catégoriques) et inscrivez si les données sont bien distribuées ou non.  Si jamais vous n'êtes pas familiers avec les histrogrammes, vous pouvez regarder ce lien: https://datagy.io/histogram-python/ \n",
    "**2)** Identifier le nombre de valeurs manquantes / inconnues / non valides.\n",
    "\n",
    "Si vous avez des hypothèses, inscrivez-les."
   ]
  },
  {
   "cell_type": "code",
   "execution_count": 32,
   "metadata": {
    "id": "vWuWBRQZP8f-"
   },
   "outputs": [
    {
     "data": {
      "image/png": "[encoded data removed]",
      "text/plain": [
       "<Figure size 432x288 with 1 Axes>"
      ]
     },
     "metadata": {
      "needs_background": "light"
     },
     "output_type": "display_data"
    },
    {
     "name": "stdout",
     "output_type": "stream",
     "text": [
      "(Example.1): Est-ce que les valeurs sont bien distribuées? Non. Les valeurs sont très imbalancées.\n",
      "(Example.2): Il y a 2273 valeures manquantes représentées par le symbole '?'.\n",
      "\n",
      "\n"
     ]
    },
    {
     "data": {
      "image/png": "[encoded data removed]",
      "text/plain": [
       "<Figure size 432x288 with 1 Axes>"
      ]
     },
     "metadata": {
      "needs_background": "light"
     },
     "output_type": "display_data"
    },
    {
     "name": "stdout",
     "output_type": "stream",
     "text": [
      "Female             54708\n",
      "Male               47055\n",
      "Unknown/Invalid        3\n",
      "Name: gender, dtype: int64\n",
      "(1.1): Est-ce que les valeurs de 'gender' sont bien distribuées? Oui. les valeurs sont balancées, car la différence entre les deux représente 7.52% de l'ensemble de données.\n",
      "(1.2): Il y a 3 valeures manquantes.\n",
      "\n"
     ]
    },
    {
     "data": {
      "image/png": "[encoded data removed]",
      "text/plain": [
       "<Figure size 432x288 with 1 Axes>"
      ]
     },
     "metadata": {
      "needs_background": "light"
     },
     "output_type": "display_data"
    },
    {
     "name": "stdout",
     "output_type": "stream",
     "text": [
      "[70-80)     26068\n",
      "[60-70)     22483\n",
      "[50-60)     17256\n",
      "[80-90)     17197\n",
      "[40-50)      9685\n",
      "[30-40)      3775\n",
      "[90-100)     2793\n",
      "[20-30)      1657\n",
      "[10-20)       691\n",
      "[0-10)        161\n",
      "Name: age, dtype: int64\n",
      "(2.1): Est-ce que les valeurs de 'age' sont bien distribuées? Non. Environ la moitié des données est est situé dans la tranche 60-80.\n",
      "(2.2): Il y a 0 valeures manquantes.\n",
      "\n"
     ]
    },
    {
     "data": {
      "image/png": "[encoded data removed]",
      "text/plain": [
       "<Figure size 432x288 with 1 Axes>"
      ]
     },
     "metadata": {
      "needs_background": "light"
     },
     "output_type": "display_data"
    },
    {
     "name": "stdout",
     "output_type": "stream",
     "text": [
      "?            98569\n",
      "[75-100)      1336\n",
      "[50-75)        897\n",
      "[100-125)      625\n",
      "[125-150)      145\n",
      "[25-50)         97\n",
      "[0-25)          48\n",
      "[150-175)       35\n",
      "[175-200)       11\n",
      ">200             3\n",
      "Name: weight, dtype: int64\n",
      "(3.1): Est-ce que les valeurs de 'weight' sont bien distribuées? Non. Il y a beaucoup trop de valeurs manquantes.\n",
      "(3.2): Il y a 98569 valeures manquantes.\n",
      "\n"
     ]
    },
    {
     "data": {
      "image/png": "[encoded data removed]",
      "text/plain": [
       "<Figure size 432x288 with 1 Axes>"
      ]
     },
     "metadata": {
      "needs_background": "light"
     },
     "output_type": "display_data"
    },
    {
     "name": "stdout",
     "output_type": "stream",
     "text": [
      "13    6086\n",
      "12    6004\n",
      "11    5795\n",
      "15    5792\n",
      "14    5707\n",
      "      ... \n",
      "70       2\n",
      "75       2\n",
      "81       1\n",
      "79       1\n",
      "74       1\n",
      "Name: num_medications, Length: 75, dtype: int64\n",
      "(4.1): Est-ce que les valeurs de 'num_medications' sont bien distribuées? Non.\n",
      "(4.2): Il y a 0 valeures manquantes.\n",
      "\n"
     ]
    }
   ],
   "source": [
    "# RÉPONSE Q2 -\n",
    "\n",
    "# Exemple pour l'attribut 'race'\n",
    "plt.figure() # Crée une nouvelle figure\n",
    "X[\"race\"].value_counts().plot(kind=\"barh\", title=\"EXEMPLE - Race\")\n",
    "plt.show()\n",
    "print(\"(Example.1): Est-ce que les valeurs sont bien distribuées? Non. Les valeurs sont très imbalancées.\")\n",
    "print(\"(Example.2): Il y a 2273 valeures manquantes représentées par le symbole '?'.\\n\\n\")\n",
    "\n",
    "# Modifiez et répondez aux questions ci-dessous en vous aidant avec l'exemple.  \n",
    "# Et plutôt que d'écrire uniquement équilibrées/non-équilibrées, tentez de dire pourquoi.\n",
    "\n",
    "# gender\n",
    "plt.figure()\n",
    "X[\"gender\"].value_counts().plot(kind=\"barh\", title=\"Gender\")\n",
    "plt.show();\n",
    "print(X['gender'].value_counts())\n",
    "print(\"(1.1): Est-ce que les valeurs de 'gender' sont bien distribuées? Oui. les valeurs sont balancées, car la différence entre les deux représente 7.52% de l'ensemble de données.\")\n",
    "print(\"(1.2): Il y a 3 valeures manquantes.\\n\")\n",
    "# age\n",
    "plt.figure()\n",
    "X[\"age\"].value_counts().plot(kind=\"barh\", title=\"Age\")\n",
    "plt.show();\n",
    "print(X['age'].value_counts())\n",
    "print(\"(2.1): Est-ce que les valeurs de 'age' sont bien distribuées? Non. Environ la moitié des données est est situé dans la tranche 60-80.\")\n",
    "print(\"(2.2): Il y a 0 valeures manquantes.\\n\")\n",
    "# weight\n",
    "plt.figure()\n",
    "X[\"weight\"].value_counts().plot(kind=\"barh\", title=\"Weight\")\n",
    "plt.show();\n",
    "print(X['weight'].value_counts())\n",
    "print(\"(3.1): Est-ce que les valeurs de 'weight' sont bien distribuées? Non. Il y a beaucoup trop de valeurs manquantes.\")\n",
    "print(\"(3.2): Il y a 98569 valeures manquantes.\\n\")\n",
    "# num_medications\n",
    "plt.figure()\n",
    "X[\"num_medications\"].value_counts().plot(kind=\"hist\", title=\"Number of medications\")\n",
    "plt.show();\n",
    "print(X['num_medications'].value_counts())\n",
    "print(\"(4.1): Est-ce que les valeurs de 'num_medications' sont bien distribuées? Non.\")\n",
    "print(\"(4.2): Il y a 0 valeures manquantes.\\n\")"
   ]
  },
  {
   "cell_type": "markdown",
   "metadata": {
    "id": "RYX66ZxyP8f_"
   },
   "source": [
    "**4. Préparation de l'ensemble de données et prétraitement**\n",
    "\n",
    "Nous ferons quelques étapes pour préparer les données pour l'expérimentation:  \n",
    "1. Extraire l'attribut correspondant à la classe que nous voulons prédire pour en faire notre classe cible\n",
    "2. Séparer l'ensemble de données en ensemble d'entraînement et ensemble de validation (appelé ensemble test dans sklearn).\n",
    "3. Définir un sous-ensemble d'attributs pour l'apprentissage\n",
    "4. Utiliser le one-hot-encoding pour les attributs discrets."
   ]
  },
  {
   "cell_type": "code",
   "execution_count": 33,
   "metadata": {
    "id": "ZjjPq4X-P8f_"
   },
   "outputs": [],
   "source": [
    "# Cette étape ne peux être exécuté une fois, puisque la fonction pop enlève la colonne du dataset\n",
    "y = X.pop(\"readmitted\").values"
   ]
  },
  {
   "cell_type": "code",
   "execution_count": 34,
   "metadata": {
    "id": "tenWXIjDP8gA"
   },
   "outputs": [
    {
     "name": "stdout",
     "output_type": "stream",
     "text": [
      "(81412, 49)\n",
      "(20354,)\n"
     ]
    }
   ],
   "source": [
    "# Séparer le dataset en ensemble d'entraînement et ensemble de test.\n",
    "from sklearn.model_selection import train_test_split\n",
    "\n",
    "X_train, X_test, y_train, y_test = train_test_split(X, y, test_size = 0.2, random_state=5)\n",
    "print(X_train.shape)\n",
    "print(y_test.shape)"
   ]
  },
  {
   "cell_type": "code",
   "execution_count": 35,
   "metadata": {
    "id": "5l2cufHNP8gA"
   },
   "outputs": [
    {
     "data": {
      "text/plain": [
       "OneHotEncoder(handle_unknown='ignore', sparse=False)"
      ]
     },
     "execution_count": 35,
     "metadata": {},
     "output_type": "execute_result"
    }
   ],
   "source": [
    "from sklearn import preprocessing\n",
    "from sklearn.preprocessing import OneHotEncoder\n",
    "\n",
    "# encoder\n",
    "ohe = OneHotEncoder(sparse=False, handle_unknown='ignore')\n",
    "\n",
    "# Puisque le dataset est plutôt grand, on choisi seulement certain attributs\n",
    "featureSet = ['race','gender','age', 'weight', 'time_in_hospital', 'num_lab_procedures', 'num_procedures',\n",
    " 'num_medications']\n",
    "\n",
    "# Faire une copie des deux ensemble en fonction des attributs choisis\n",
    "X_train_sf = X_train[featureSet].copy()\n",
    "X_test_sf = X_test[featureSet].copy()\n",
    "\n",
    "# Si vous voulez essayer avec le dataset au complet (prends vraiment longtemps):\n",
    "# X_train_allf = X_train[:].copy()\n",
    "# X_test_allf = X_test[:].copy()\n",
    "\n",
    "# Appliquer l'encodage 'one-hot' aux attributs\n",
    "ohe.fit(X_train_sf)"
   ]
  },
  {
   "cell_type": "code",
   "execution_count": 36,
   "metadata": {
    "id": "29K7912MP8gB"
   },
   "outputs": [
    {
     "name": "stdout",
     "output_type": "stream",
     "text": [
      "['x0_?' 'x0_AfricanAmerican' 'x0_Asian' 'x0_Caucasian' 'x0_Hispanic'\n",
      " 'x0_Other' 'x1_Female' 'x1_Male' 'x1_Unknown/Invalid' 'x2_[0-10)'\n",
      " 'x2_[10-20)' 'x2_[20-30)' 'x2_[30-40)' 'x2_[40-50)' 'x2_[50-60)'\n",
      " 'x2_[60-70)' 'x2_[70-80)' 'x2_[80-90)' 'x2_[90-100)' 'x3_>200' 'x3_?'\n",
      " 'x3_[0-25)' 'x3_[100-125)' 'x3_[125-150)' 'x3_[150-175)' 'x3_[175-200)'\n",
      " 'x3_[25-50)' 'x3_[50-75)' 'x3_[75-100)' 'x4_1' 'x4_2' 'x4_3' 'x4_4'\n",
      " 'x4_5' 'x4_6' 'x4_7' 'x4_8' 'x4_9' 'x4_10' 'x4_11' 'x4_12' 'x4_13'\n",
      " 'x4_14' 'x5_1' 'x5_2' 'x5_3' 'x5_4' 'x5_5' 'x5_6' 'x5_7' 'x5_8' 'x5_9'\n",
      " 'x5_10' 'x5_11' 'x5_12' 'x5_13' 'x5_14' 'x5_15' 'x5_16' 'x5_17' 'x5_18'\n",
      " 'x5_19' 'x5_20' 'x5_21' 'x5_22' 'x5_23' 'x5_24' 'x5_25' 'x5_26' 'x5_27'\n",
      " 'x5_28' 'x5_29' 'x5_30' 'x5_31' 'x5_32' 'x5_33' 'x5_34' 'x5_35' 'x5_36'\n",
      " 'x5_37' 'x5_38' 'x5_39' 'x5_40' 'x5_41' 'x5_42' 'x5_43' 'x5_44' 'x5_45'\n",
      " 'x5_46' 'x5_47' 'x5_48' 'x5_49' 'x5_50' 'x5_51' 'x5_52' 'x5_53' 'x5_54'\n",
      " 'x5_55' 'x5_56' 'x5_57' 'x5_58' 'x5_59' 'x5_60' 'x5_61' 'x5_62' 'x5_63'\n",
      " 'x5_64' 'x5_65' 'x5_66' 'x5_67' 'x5_68' 'x5_69' 'x5_70' 'x5_71' 'x5_72'\n",
      " 'x5_73' 'x5_74' 'x5_75' 'x5_76' 'x5_77' 'x5_78' 'x5_79' 'x5_80' 'x5_81'\n",
      " 'x5_82' 'x5_83' 'x5_84' 'x5_85' 'x5_86' 'x5_87' 'x5_88' 'x5_89' 'x5_90'\n",
      " 'x5_91' 'x5_92' 'x5_93' 'x5_94' 'x5_95' 'x5_96' 'x5_97' 'x5_98' 'x5_99'\n",
      " 'x5_100' 'x5_101' 'x5_102' 'x5_103' 'x5_104' 'x5_105' 'x5_106' 'x5_107'\n",
      " 'x5_108' 'x5_109' 'x5_111' 'x5_113' 'x5_114' 'x5_118' 'x5_120' 'x5_121'\n",
      " 'x5_129' 'x5_132' 'x6_0' 'x6_1' 'x6_2' 'x6_3' 'x6_4' 'x6_5' 'x6_6' 'x7_1'\n",
      " 'x7_2' 'x7_3' 'x7_4' 'x7_5' 'x7_6' 'x7_7' 'x7_8' 'x7_9' 'x7_10' 'x7_11'\n",
      " 'x7_12' 'x7_13' 'x7_14' 'x7_15' 'x7_16' 'x7_17' 'x7_18' 'x7_19' 'x7_20'\n",
      " 'x7_21' 'x7_22' 'x7_23' 'x7_24' 'x7_25' 'x7_26' 'x7_27' 'x7_28' 'x7_29'\n",
      " 'x7_30' 'x7_31' 'x7_32' 'x7_33' 'x7_34' 'x7_35' 'x7_36' 'x7_37' 'x7_38'\n",
      " 'x7_39' 'x7_40' 'x7_41' 'x7_42' 'x7_43' 'x7_44' 'x7_45' 'x7_46' 'x7_47'\n",
      " 'x7_48' 'x7_49' 'x7_50' 'x7_51' 'x7_52' 'x7_53' 'x7_54' 'x7_55' 'x7_56'\n",
      " 'x7_57' 'x7_58' 'x7_59' 'x7_60' 'x7_61' 'x7_62' 'x7_63' 'x7_64' 'x7_65'\n",
      " 'x7_66' 'x7_67' 'x7_68' 'x7_69' 'x7_70' 'x7_72' 'x7_74' 'x7_75' 'x7_79'\n",
      " 'x7_81']\n"
     ]
    },
    {
     "name": "stderr",
     "output_type": "stream",
     "text": [
      "c:\\users\\mark\\appdata\\local\\programs\\python\\python37\\lib\\site-packages\\sklearn\\utils\\deprecation.py:87: FutureWarning: Function get_feature_names is deprecated; get_feature_names is deprecated in 1.0 and will be removed in 1.2. Please use get_feature_names_out instead.\n",
      "  warnings.warn(msg, category=FutureWarning)\n"
     ]
    }
   ],
   "source": [
    "# L'encodage renome les attributs. Impression du nom des nouveaux attributs\n",
    "feature_names = ohe.get_feature_names()\n",
    "print(feature_names)"
   ]
  },
  {
   "cell_type": "code",
   "execution_count": 37,
   "metadata": {
    "id": "XOwdNdkIP8gC"
   },
   "outputs": [],
   "source": [
    "# Maintenant on encode les deux ensemble (entraînement et test)\n",
    "X_train_sf_encoded = ohe.transform(X_train_sf)\n",
    "X_test_sf_encoded = ohe.transform(X_test_sf)"
   ]
  },
  {
   "cell_type": "markdown",
   "metadata": {
    "id": "xJ-OPPJeP8gC"
   },
   "source": [
    "**<span style='color:#00BB27'>(TO DO) Q3 - 1 point<span>**   \n",
    "1. Combien d'attributs avons-nous après l'encodage?   \n",
    "2. Pourquoi y en a-t-il autant?  \n",
    "3. Montrer le format (*shape*) du dataset d'entraînement maintenant."
   ]
  },
  {
   "cell_type": "code",
   "execution_count": 41,
   "metadata": {
    "id": "AAKNoGvNP8gD"
   },
   "outputs": [
    {
     "name": "stdout",
     "output_type": "stream",
     "text": [
      "Il y a 242 attributs.\n",
      "Il y a beaucoup d'attributes, car les 'ranges' et catégories des attributs comme age, race et autres sont maintenant de nouveaux attributs.\n",
      "Le format du dataset d'entrainement est (81412, 8)\n"
     ]
    }
   ],
   "source": [
    "# RÉPONSE Q3 \n",
    "\n",
    "# Combien d'attributs avons-nous après l'encodage? (ligne de code)\n",
    "print(\"Il y a {} attributs.\".format(X_test_sf_encoded.shape[1]))\n",
    "# Pourquoi y en a-t-il autant?\n",
    "print(\"Il y a beaucoup d'attributes, car les 'ranges' et catégories des attributs comme age, race et autres sont maintenant de nouveaux attributs.\")\n",
    "# Montrer le format (shape) du dataset d'entraînement maintenant (ligne de code).\n",
    "print(\"Le format du dataset d'entrainement est {}\".format(X_train_sf.shape))"
   ]
  },
  {
   "cell_type": "markdown",
   "metadata": {
    "id": "IpPIkU3ZP8gD"
   },
   "source": [
    "**5. Modèle de base**  \n",
    "Maintenant que nous avons transformé nos attributs, nous allons commencer par utiliser un classificateur de régression logistique pour effectuer un apprentissage supervisé sur notre dataset.\n"
   ]
  },
  {
   "cell_type": "markdown",
   "metadata": {
    "id": "RqxauDbjP8gD"
   },
   "source": [
    "***5.1 Définition du classificateur de régression logistique***   \n",
    "Tout d'abord, nous allons définir notre classificateur de régression logistique avec scikit learn. Puisque nous avons 3 classes pour la prédiction de réadmission (avant 30 jours, après 30 jours et aucune), nous définissons notre classificateur comme un classificateur multinomial (voir ci-dessous le paramètre multi_class)."
   ]
  },
  {
   "cell_type": "code",
   "execution_count": 42,
   "metadata": {
    "id": "UDIre7SnP8gE"
   },
   "outputs": [],
   "source": [
    "# Importer le classificateur\n",
    "from sklearn.linear_model import LogisticRegression\n",
    "import datetime"
   ]
  },
  {
   "cell_type": "code",
   "execution_count": 43,
   "metadata": {
    "id": "in53P5ncP8gE"
   },
   "outputs": [],
   "source": [
    "# Définition du modèle\n",
    "clf_lr = LogisticRegression(solver='lbfgs', multi_class=\"multinomial\", random_state=1, warm_start=True)"
   ]
  },
  {
   "cell_type": "markdown",
   "metadata": {
    "id": "MCQ0agWeWT2k"
   },
   "source": [
    "Comme vous le voyez ci-dessus, le solveur que nous utilisons est le 'lbfgs' qui est plus complexe que le 'sgd' (descente de gradient stochastique) que nous avons vu dans les vidéos la semaine dernière et cette semaine.\n",
    "\n",
    "Nous utiliserons 'sgd' plus tard dans le Notebook (également disponible dans sklearn), mais pour l'instant, nous utiliserons le 'lbfgs' qui utilise des techniques d'optimisation pour converger plus rapidement vers un ensemble de poids minimisant l'erreur.\n",
    "\n",
    "Avec un tel solveur, la fonction 'fit' (clf_mlp.fit) doit être répétée un certain nombre d'époques. Une *époque* est définie comme le fait de parcourir toutes les données d'entraînement une fois. Considérez une époque comme la même chose que le nombre d'itérations à travers toutes les données d'entraînement, comme nous l'avons vu pour « sgd » dans les cours.\n",
    "\n",
    "De plus, pour s'assurer que les poids ne sont pas réinitialisés au hasard après chaque époque, il est important de définir warm_start à True."
   ]
  },
  {
   "cell_type": "markdown",
   "metadata": {
    "id": "yNHszk12P8gF"
   },
   "source": [
    "***5.2 Entraînement du classificateur de régression logistique***  \n",
    "Maintenant que notre modèle est défini, nous devons entraîner le modèle en utilisant l'ensemble d'entraînement pour prédire la classe *readmitted*."
   ]
  },
  {
   "cell_type": "code",
   "execution_count": 44,
   "metadata": {
    "id": "k8-0wlp6P8gF"
   },
   "outputs": [],
   "source": [
    "def train_model(clf, X_train, y_train, epochs=10):\n",
    "    \"\"\"\n",
    "    Cette fonction entraîne un model spécifié et retourne une liste \n",
    "    de résultats.\n",
    "    \n",
    "    :param clf: modèle scikit learn\n",
    "    :param X_train: données d'entraînement encodés (attributs)\n",
    "    :param y_train: données d'entraînement (classe à prédire)\n",
    "    :param epochs: défault = 10, nombre d'itérations\n",
    "    :return: résultats pour les données d'entraînement\n",
    "    \"\"\"\n",
    "    scores = []\n",
    "    print(\"Starting training...\")\n",
    "    for i in range(1, epochs + 1):\n",
    "        print(\"Epoch:\" + str(i) + \"/\" + str(epochs) + \" -- \" + str(datetime.datetime.now()))\n",
    "        clf.fit(X_train, y_train)\n",
    "        score = clf.score(X_train, y_train)\n",
    "        scores.append(score)\n",
    "    print(\"Done training.\")\n",
    "    return scores"
   ]
  },
  {
   "cell_type": "code",
   "execution_count": 45,
   "metadata": {
    "id": "HCpNkfgRP8gH"
   },
   "outputs": [
    {
     "name": "stdout",
     "output_type": "stream",
     "text": [
      "Starting training...\n",
      "Epoch:1/1 -- 2021-10-31 18:37:53.048332\n",
      "Done training.\n",
      "[0.5432614356605906]\n"
     ]
    },
    {
     "name": "stderr",
     "output_type": "stream",
     "text": [
      "c:\\users\\mark\\appdata\\local\\programs\\python\\python37\\lib\\site-packages\\sklearn\\linear_model\\_logistic.py:818: ConvergenceWarning: lbfgs failed to converge (status=1):\n",
      "STOP: TOTAL NO. of ITERATIONS REACHED LIMIT.\n",
      "\n",
      "Increase the number of iterations (max_iter) or scale the data as shown in:\n",
      "    https://scikit-learn.org/stable/modules/preprocessing.html\n",
      "Please also refer to the documentation for alternative solver options:\n",
      "    https://scikit-learn.org/stable/modules/linear_model.html#logistic-regression\n",
      "  extra_warning_msg=_LOGISTIC_SOLVER_CONVERGENCE_MSG,\n"
     ]
    }
   ],
   "source": [
    "# Maintenant on va entrainer le modèle avec les données d'entraînement.\n",
    "# Ici on spécifie 1 epoch, alors on recevera seulement 1 score\n",
    "clf_lr_scores = train_model(clf_lr, X_train_sf_encoded, y_train, 1)\n",
    "print(clf_lr_scores)"
   ]
  },
  {
   "cell_type": "markdown",
   "metadata": {
    "id": "wm9BJOpnP8gG"
   },
   "source": [
    "**<span style='color:#00BB27'>(TO DO) Q4 - 1 point<span>**  \n",
    "Examiner la fonction *train_model* et expliquer le \"clf.score()\" (utilisé ci-haut). Vous pourrez regarder [la documentation](https://scikit-learn.org/stable/modules/generated/sklearn.linear_model.LogisticRegression.html) du LogisticRegression pour comprendre le score.  Quel est le score obtenu, et qu'est-ce qu'il signifie?\n"
   ]
  },
  {
   "cell_type": "markdown",
   "metadata": {
    "id": "WvBlz_aVP8gG"
   },
   "source": [
    "**Q4 - RÉPONSE**\n",
    "\n",
    "Quel est le score obtenu? Le score est 0.5432614356605906\n",
    "Explication du score: Le score est la précision moyenne sur les données. Dans ce cas, on entraine le modèle une seule fois avec les attributs générer par le one hot encoder."
   ]
  },
  {
   "cell_type": "markdown",
   "metadata": {
    "id": "_2QP2LAjP8gI"
   },
   "source": [
    "**<span style='color:#00BB27'>(TO DO) Q5 - 2 points<span>**  \n",
    "\n",
    "Pour cette question, exécuté la cellule ci-dessous. Par la suite, décrivez ce que le code fait. Ensuite regardant *seulement les résultats imprimés*, calculer l'accuracy. (Aucun code nécessaire)"
   ]
  },
  {
   "cell_type": "code",
   "execution_count": 46,
   "metadata": {
    "id": "hVw1F-NhP8gI"
   },
   "outputs": [
    {
     "name": "stdout",
     "output_type": "stream",
     "text": [
      "['NO' 'NO' 'NO' 'NO' 'NO' 'NO' 'NO' 'NO' 'NO' 'NO']\n",
      "['>30' 'NO' 'NO' 'NO' '>30' '<30' '<30' '<30' '>30' '>30']\n"
     ]
    },
    {
     "data": {
      "text/plain": [
       "array([[0.06578182, 0.32108097, 0.61313721],\n",
       "       [0.08640454, 0.27142533, 0.64217013],\n",
       "       [0.06809662, 0.35047773, 0.58142565],\n",
       "       [0.12213821, 0.34461479, 0.53324701],\n",
       "       [0.09655158, 0.30062231, 0.6028261 ],\n",
       "       [0.11759053, 0.35978855, 0.52262092],\n",
       "       [0.08787128, 0.34886094, 0.56326777],\n",
       "       [0.08041217, 0.29165241, 0.62793541],\n",
       "       [0.09661241, 0.35247063, 0.55091696],\n",
       "       [0.1771614 , 0.40984547, 0.41299313]])"
      ]
     },
     "execution_count": 46,
     "metadata": {},
     "output_type": "execute_result"
    }
   ],
   "source": [
    "# Afficher la prédiction des dix premiers exemples\n",
    "y_predicted = clf_lr.predict(X_train_sf_encoded[0:10])\n",
    "print(y_predicted)\n",
    "print(y_train[0:10])\n",
    "clf_lr.predict_proba(X_train_sf_encoded[0:10])"
   ]
  },
  {
   "cell_type": "markdown",
   "metadata": {
    "id": "Zr_FGsdjP8gI"
   },
   "source": [
    "**RÉPONSE Q5**   \n",
    "\n",
    "1) Décrivez c'est quoi *y_predicted*:\n",
    "La prédiction de la classe du \"train\" basée sur la plus grande probabilité dans l'array.\n",
    "2) Décrivez c'est quoi  *y_train[0:10]*:\n",
    "Les dix premières classes qui sont vrai de l'ensemble d'entrainement.\n",
    "3) Décrivez c'est quoi *clf_lr.predict_proba(X_train_sf_encoded[0:10])*:\n",
    "La probabilité estimée pour les 10 premières classes classées par l'étiquette des classes.\n",
    "4) Quelle est l'accuracy des résultats imprimés? (calculé à la main)\n",
    "3/10 = 30%"
   ]
  },
  {
   "cell_type": "markdown",
   "metadata": {
    "id": "-SbLdys9P8gJ"
   },
   "source": [
    "**5.3 Évaluation du modèle de régression logistique**   \n",
    "Maintenant que nous avons entraîné notre modèle, évaluons ce modèle sur nos données test."
   ]
  },
  {
   "cell_type": "markdown",
   "metadata": {
    "id": "mpn_ha94P8gJ"
   },
   "source": [
    "**<span style='color:#00BB27'>(TO DO) Q6 - 2 points<span>**  \n",
    "\n",
    "Évaluer le modèle sur les données 'test' en calculant le *score* et comparer les résultats aux données d'entraînement. Imprimer lequel est meilleur et donner une raison pourquoi les résultats sont ainsi."
   ]
  },
  {
   "cell_type": "code",
   "execution_count": 51,
   "metadata": {
    "id": "vIFhSi9eP8gJ"
   },
   "outputs": [
    {
     "name": "stdout",
     "output_type": "stream",
     "text": [
      "Starting training...\n",
      "Epoch:1/1 -- 2021-10-31 19:09:00.500370\n",
      "Done training.\n",
      "Starting training...\n",
      "Epoch:1/1 -- 2021-10-31 19:09:00.816369\n",
      "Done training.\n",
      "Training:  [0.5432614356605906]\n",
      "Test:  [0.5445612655988995]\n",
      "Le meilleur score est celui de l'ensemble test: [0.5445612655988995]\n",
      "L'ensemble test a un meilleur score d'environ 0.001 plus grand que l'ensemble d'entrainement, car l'ensemble test est plus petit que l'ensemble d'entrainement.\n"
     ]
    }
   ],
   "source": [
    "# RÉPONSE Q6\n",
    "\n",
    "# Utiliser les données test: X_test_sf_encoded\n",
    "clf_lr_scores_test = train_model(clf_lr, X_test_sf_encoded, y_test, 1)\n",
    "\n",
    "# Calculer le score pour test et imprimer le.\n",
    "clf_lr_scores_test = train_model(clf_lr, X_test_sf_encoded, y_test, 1)\n",
    "\n",
    "# Comparer le score test et le score d'entraînement\n",
    "print(\"Training: \", clf_lr_scores)\n",
    "print(\"Test: \", clf_lr_scores_test)\n",
    "\n",
    "# Imprimer lequel est meilleure\n",
    "print(\"Le meilleur score est celui de l'ensemble test:\", clf_lr_scores_test)\n",
    "\n",
    "# Donner une raison pourquoi?\n",
    "print(\"L'ensemble test a un meilleur score d'environ 0.001 plus grand que l'ensemble d'entrainement, car l'ensemble test est plus petit que l'ensemble d'entrainement.\")"
   ]
  },
  {
   "cell_type": "markdown",
   "metadata": {
    "id": "YoDOIXMGP8gJ"
   },
   "source": [
    "**6. Perceptron multi-couches**   \n",
    "Nous allons maintenant entraîner un perceptron muti-couches comme classificateur.  Et nous pourrons le comparer à notre modèle de base (régression logistique)."
   ]
  },
  {
   "cell_type": "markdown",
   "metadata": {
    "id": "KpyM7gNVP8gK"
   },
   "source": [
    "***6.1 Définition du perceptron multi-couches***   \n",
    "On le définit avec l'utilisation de scikit learn.  On définit un réseau avec une seule couche cachée de 100 noeuds (voir le paramètre hidden_layer_sizes).\n",
    "\n",
    " "
   ]
  },
  {
   "cell_type": "code",
   "execution_count": 52,
   "metadata": {
    "id": "C4On4M9GP8gK"
   },
   "outputs": [],
   "source": [
    "# Importation du modèle\n",
    "from sklearn.neural_network import MLPClassifier"
   ]
  },
  {
   "cell_type": "code",
   "execution_count": 53,
   "metadata": {
    "id": "vOuKZBSWP8gK"
   },
   "outputs": [],
   "source": [
    "# Définition du modèle\n",
    "# ATTENTION -- Avec ce type de solver 'lbfgs', il faut répéter le \"fit\" un certain nombre d'époques\n",
    "clf_mlp = MLPClassifier(solver='lbfgs', hidden_layer_sizes=(100), random_state=1, warm_start=True)"
   ]
  },
  {
   "cell_type": "markdown",
   "metadata": {
    "id": "FAPVvB9JaSnS"
   },
   "source": [
    "Comme vous le voyez ci-dessus, nous utilisons à nouveau le solveur 'lbfgs'. De même que pour la régression logistique, avec un tel solveur, la fonction 'fit' (clf_mlp.fit) doit être répétée un certain nombre d'époques.\n",
    "\n",
    "De plus, de nombreux paramètres, disponibles pour le MLPClassifier, ne s'appliquent pas lors de l'utilisation de 'lbfgs', donc pour l'instant, nous utilisons les valeurs par défaut. Nous discuterons des paramètres plus tard lorsque nous reviendrons à « sgd »."
   ]
  },
  {
   "cell_type": "markdown",
   "metadata": {
    "id": "_ET_GLDBP8gL"
   },
   "source": [
    "***6.2 Entraînement, test et discussion du perceptron multi-couches***  \n",
    "Maintenant que le modèle MLP est défini, nous devons l'entraîner avec l'ensemble d'entraînement pour apprendre à prédire notre classe cible *readmitted*. Nous allons visualiser nos scores, en discuter et les comparer avec le modèle de base."
   ]
  },
  {
   "cell_type": "code",
   "execution_count": 54,
   "metadata": {
    "id": "uSHsm2jsP8gL"
   },
   "outputs": [],
   "source": [
    "def plotScores(scores_train, scores_test):\n",
    "    \"\"\"\n",
    "    Visualizer les scores avec matplotlib.\n",
    "    :param scores_train: Liste des scores d'entrainment\n",
    "    :param scores_test: Liste des scores de test\n",
    "    :return None\n",
    "    \"\"\"\n",
    "    # Visualizer les points\n",
    "    plt.plot([i for i in range(len(scores_train))], scores_train)\n",
    "    plt.plot([i for i in range(len(scores_test))], scores_test)\n",
    "    # Ajouter une légende\n",
    "    plt.legend([\"Train scores\", \"Test Scores\"])\n",
    "    # Renommé les axes\n",
    "    plt.ylabel(\"Score\")\n",
    "    plt.xlabel(\"Epoch\")\n",
    "    plt.show()"
   ]
  },
  {
   "cell_type": "markdown",
   "metadata": {
    "id": "zRy_Mb2WP8gL"
   },
   "source": [
    "**<span style='color:#00BB27'>(TO DO) Q7 - 7 points<span>**   \n",
    "    \n",
    "1. Vous devez créer une fonction train_and_evaluate () ci-dessous. Cette fonction doit prendre en entrée un classifieur, un ensemble d'entraînment (attributs et classe cible), un ensemble test (attributs et classe cible) et le nombre d'epochs. Inspirez-vous de la fonction fournie train_model () pour la régression logistique et entraînez le modèle pour 10 epochs. La fonction doit retourner deux listes de résultats (entraînement et test) au lieu d'une seule tel que retourné par train_model() ci-haut.  \n",
    "2. Une fois défini, entraînez clf_mlp avec train_and_evaluate() pendant dix epochs (cela prendra un certain temps en fonction du matériel de votre machine/hardware. Cela peut prendre 2-3 minutes par époque).\n",
    "3. Avec les résultats du perceptron mutli-couches, visualisez-les avec la fonction plotScores() ci-dessus.  Vous devriez alors voir les courbes pour l'ensemble d'entrainement et de test.\n",
    "4.  Décrivez le comportement des scores trouvés lors de l'entraînement. Est-ce que le l'ensemble d'entraînement ou de test ont produit les meilleurs résultats? Que signifient ces résultats? \n",
    "5. Le perceptron à multi-couches a-t-il fait mieux ou pire que le modèle de régression logistique de base (et de combien - pourcentage)? Pourquoi pensez-vous que cela a eu un effet meilleur / pire?\n"
   ]
  },
  {
   "cell_type": "code",
   "execution_count": null,
   "metadata": {
    "id": "S4Z5iPHcP8gM"
   },
   "outputs": [],
   "source": [
    "# (RÉPONSE) 7.1. Créer la fonction train_and_evaluate\n",
    "def train_and_evaluate(clf, X_train, y_train, X_test, y_test, epochs=10):\n",
    "    scores_train = []\n",
    "    scores_test = []\n",
    "    for i in range(epochs):\n",
    "        print(\"Epoch Iteration: \"+str(i)+\": \"+ str(datetime.datetime.now()))\n",
    "        clf.fit(X_train, y_train)\n",
    "        scoreTrain = clf.score(X_train, y_train)\n",
    "        scores_train.append(scoreTrain)\n",
    "        scoreTest = clf.score(X_test, y_test)\n",
    "        scores_test.append(scoreTest)\n",
    "    return scores_train, scores_test"
   ]
  },
  {
   "cell_type": "code",
   "execution_count": null,
   "metadata": {
    "id": "17BjMkZqP8gM"
   },
   "outputs": [],
   "source": [
    "# (RÉPONSE) 7.2\n",
    "# Entrainer pour *10* époques, pas 1. Ça prendra du temps...\n",
    "# Il se peut qu'un message d'attention soit affiché. Ceci est dû au fait que nous avons ajouté des conditions de stop\n",
    "# En réalité, nous aurions voulu que le modèle s'entraîne pour aussi longtemps que possible pour bien assimiler ou comprendre\n",
    "# les données d'entraînement.\n",
    "train_scores_mlp, test_scores_mlp = train_and_evaluate(clf_mlp, X_train_sf_encoded, y_train, X_test_sf_encoded, y_test, 10)\n",
    "\n",
    "print(train_scores_mlp, test_scores_mlp)"
   ]
  },
  {
   "cell_type": "code",
   "execution_count": null,
   "metadata": {
    "id": "xX__LHTnP8gM"
   },
   "outputs": [],
   "source": [
    "# (RÉPONSE) 7.3. Visualizer les résultats\n",
    "plotScores(train_scores_mlp, test_scores_mlp)"
   ]
  },
  {
   "cell_type": "markdown",
   "metadata": {
    "id": "5NKoKAfHP8gN"
   },
   "source": [
    "(Réponses courtes)\n",
    "\n",
    "* (RÉPONSE) 7.4. Décrivez le comportement des scores trouvés lors de l'entraînement. Est-ce que le l'ensemble d'entraînement ou de test ont produit les meilleurs résultats? Que signifient ces résultats?  \n",
    "\n",
    "...   \n",
    "\n",
    "* (RÉPONSE) 7.5. Le perceptron à multi-couches a-t-il fait mieux ou pire que le modèle de régression logistique de base (et de combien - pourcentage)? Pourquoi pensez-vous que cela a eu un effet meilleur / pire? \n",
    "\n",
    "...  \n"
   ]
  },
  {
   "cell_type": "markdown",
   "metadata": {
    "id": "aYIuNhEWP8gN"
   },
   "source": [
    "**7. Essayer un modèle légèrement différent avec une sélection d'attributs différente**  \n",
    "Afin de voir l'impact du choix des attributs sur les résultats, essayons un autre perceptron à multi-couches avec une sélection d'attributs différente. Cette fois, vous créerez le modèle avec des attributs aléatoires à partir de notre liste d'attributs d'origine. Une sélection aléatoire n'est certainement pas ce qui devrait être fait dans un cas réel, mais pour ce notebook, pour notre comparaison, cela ira bien.  \n"
   ]
  },
  {
   "cell_type": "markdown",
   "metadata": {
    "id": "A9gzGEJVP8gO"
   },
   "source": [
    "**<span style='color:#00BB27'>(TO DO) Q8 - 6 points<span>**  \n",
    "    \n",
    "Créez une nouvelle liste d'attributs contenant quatre attributs aléatoires à partir de la liste *featureSet*. Nous allons nommer cette liste *randomFeatures*. Afficher les attributs sélectionnés.\n",
    "\n",
    "Utilisez ensuite cette liste pour compléter le processus d'encodage à l’aide de *ohe_rand*.\n",
    "\n",
    "Ensuite, utiliser la fonction train_and_evaluate() pour entraîner le modèle clf_rand et visualiser les résultats. \n",
    "\n",
    "Finalement, comparé les résultats de clf_mlp et clf_rand en affichant les scores, dire lequel est meilleure."
   ]
  },
  {
   "cell_type": "code",
   "execution_count": null,
   "metadata": {
    "id": "ekrLDabiP8gO"
   },
   "outputs": [],
   "source": [
    "# RÉPONSE Q8\n",
    "\n",
    "import random\n",
    "\n",
    "# Choisissez un seed\n",
    "random.seed(...) \n",
    "\n",
    "# Définir l'encodeur 'one-hot'\n",
    "ohe_rand = OneHotEncoder(sparse=False, handle_unknown='ignore')\n",
    "\n",
    "# Liste d'attributs disponible pour la sélection aléatoire\n",
    "featureSet = ['race','gender','age', 'weight', 'time_in_hospital', 'num_lab_procedures', 'num_procedures',\n",
    " 'num_medications']\n",
    "\n",
    "# TO DO - Choisissez quatres attributs avec la fonction random\n",
    "randomFeatures = ...\n",
    "print(randomFeatures)\n",
    "\n",
    "# TO DO - Terminez le processus d'encodage\n",
    "# ..."
   ]
  },
  {
   "cell_type": "code",
   "execution_count": null,
   "metadata": {
    "id": "09bl9xrDP8gO"
   },
   "outputs": [],
   "source": [
    "# RÉPONSE Q8 (suite)\n",
    "\n",
    "clf_rand = MLPClassifier(solver='lbfgs', hidden_layer_sizes=(100), random_state=1, warm_start=True)\n",
    "\n",
    "# TO DO - Entraînez le modèle. Ceci va prendre du temps, alors je vous suggère de vous occuper en attendant et afficher les résultats\n",
    "# ...\n",
    "\n"
   ]
  },
  {
   "cell_type": "code",
   "execution_count": null,
   "metadata": {
    "id": "pCU3AET7P8gP"
   },
   "outputs": [],
   "source": [
    "# RÉPONSE Q8 (suite)\n",
    "\n",
    "# TO DO - Comparez les résultats de clf_mlp et clf_rand puis afficher les résultats des deux.\n",
    "# ..."
   ]
  },
  {
   "cell_type": "markdown",
   "metadata": {
    "id": "RbtA92jLP8gQ"
   },
   "source": [
    "**8. Descente de gradient et courbe d'erreur**  \n",
    "Nous ferons un dernier apprentissage d'un MLP, mais cette fois nous utiliserons solver=\"SGD\". L'utilisation de la descente de gradient, telle que vous l'avez apprise, nous permet d'examiner la courbe d'erreur (loss) au cours de son entraînement, ainsi que de discuter de différents paramètres, tels que nous les avons vus dans les vidéos."
   ]
  },
  {
   "cell_type": "code",
   "execution_count": null,
   "metadata": {
    "id": "x1K4CDpEP8gQ"
   },
   "outputs": [],
   "source": [
    "clf_sgd = MLPClassifier(solver='sgd', alpha=1e-4, hidden_layer_sizes=(50,50), random_state=1, max_iter=300, learning_rate_init=0.1, warm_start=True)"
   ]
  },
  {
   "cell_type": "markdown",
   "metadata": {
    "id": "5mAqxoWUP8gK"
   },
   "source": [
    "**<span style='color:#00BB27'>(TO DO) Q9 - 2 points<span>**   \n",
    "Expliquer **en vos mots** les paramètres choisi ci haut. Qu'est-ce qu'ils représentent et comment la sélection de ces valeurs affecterons le modèle. Pour ceux qui ne sont pas familiers, explorez la [documentation officielle](https://scikit-learn.org/stable/modules/generated/sklearn.neural_network.MLPClassifier.html) et fournissez simplement de courtes phrases sur ce que font les paramètres en fonction de leurs descriptions et vos connaissances."
   ]
  },
  {
   "cell_type": "markdown",
   "metadata": {
    "id": "3YkBCZkSP8gL"
   },
   "source": [
    "**RÉPONSE Q9**  \n",
    "\n",
    "*solver:*  \n",
    "*alpha:*  \n",
    "*hidden_layer_size:*  \n",
    "*random_state:*  \n",
    "*learning_rate_init:*  \n",
    "*warm_start:*  "
   ]
  },
  {
   "cell_type": "code",
   "execution_count": null,
   "metadata": {
    "id": "5BhXo5qPP8gR"
   },
   "outputs": [],
   "source": [
    "def plot_loss(clf):\n",
    "    \"\"\"\n",
    "    Fonction pour visualizer la courbe des pertes.\n",
    "    :param clf: classificateur avec solver=\"SGD\"\n",
    "    :returns: None\n",
    "    \"\"\"\n",
    "    plt.plot(clf.loss_curve_)\n",
    "    plt.ylabel('Loss')\n",
    "    plt.xlabel('Epoch')\n",
    "    plt.show()"
   ]
  },
  {
   "cell_type": "markdown",
   "metadata": {
    "id": "ohk6d2WMP8gR"
   },
   "source": [
    "**<span style='color:#00BB27'>(TO DO) Q10 - 2 points<span>**   \n",
    "    \n",
    "Entrainer et évaluer le modèle en utilisant train_and_evaluate avec le paramètre epochs = 1. Puisqu'on utilise SGD, max_iter signifie le nombre d'epoch, qui est défini à 300 (max_iter=300). Utiliser le X_train_sf_encoded et X_test_sf_encoded.\n",
    "\n",
    "Ensuite, illustrez le 'loss function' à l'aide d'un graphe (la fonction plot_loss définie ci-haut). Décrivez ce que le loss function représente et pourquoi il est important."
   ]
  },
  {
   "cell_type": "code",
   "execution_count": null,
   "metadata": {
    "id": "8hbqt-VqP8gR"
   },
   "outputs": [],
   "source": [
    "# RÉPONSE Q10\n",
    "# Entrainer le modèle en spécifiant epochs =1 \n",
    "# ...\n",
    "\n",
    "# Plot the loss of clf_sgd\n",
    "# ...\n",
    "\n",
    "# Expliquer pourquoi cette fonction d'erreur (loss) est importante\n",
    "\"\"\"\n",
    "\n",
    "\n",
    "\n",
    "\"\"\""
   ]
  },
  {
   "cell_type": "markdown",
   "metadata": {
    "id": "y4pvi4aLP8gS"
   },
   "source": [
    "#### Signature\n",
    "\n",
    "Je, -------VOTRE NOM--------------, -------VOTRE NUMÉRO ÉTUDIANT -------- déclare que les réponses inscrites dans ce notebook sont les miennes."
   ]
  }
 ],
 "metadata": {
  "colab": {
   "collapsed_sections": [],
   "name": "CSI4506-MLP-Automne2021.ipynb",
   "provenance": []
  },
  "kernelspec": {
   "display_name": "Python 3 (ipykernel)",
   "language": "python",
   "name": "python3"
  },
  "language_info": {
   "codemirror_mode": {
    "name": "ipython",
    "version": 3
   },
   "file_extension": ".py",
   "mimetype": "text/x-python",
   "name": "python",
   "nbconvert_exporter": "python",
   "pygments_lexer": "ipython3",
   "version": "3.7.3"
  }
 },
 "nbformat": 4,
 "nbformat_minor": 1
}
