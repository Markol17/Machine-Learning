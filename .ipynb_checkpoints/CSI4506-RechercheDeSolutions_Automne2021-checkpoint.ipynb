{
 "cells": [
  {
   "cell_type": "markdown",
   "metadata": {},
   "source": [
    "# Notebook 2 - Recherche de solutions"
   ]
  },
  {
   "cell_type": "markdown",
   "metadata": {},
   "source": [
    "CSI4506 Intelligence Artificielle  \n",
    "Automne 2021 \\\n",
    "Version 1 préparée par Joel Muteba, Julian Templeton et Caroline Barrière (2020).  Version 2 adaptée par Caroline Barrière (2021)."
   ]
  },
  {
   "cell_type": "markdown",
   "metadata": {},
   "source": [
    "**INTRODUCTION**\\\n",
    "Ce notebook couvre la définition d'un espace d'états et des algorithmes de recherches.  Le code ci-bas est largement inspiré des ressources fournies avec le livre Artificial Intelligence, Foundations of Computational Agents (https://artint.info/2e/online.html).  En particulier, les ressources correspondant au chapitre 3, sur le thème de *Searching for Solutions*, se trouvent ici https://artint.info/AIPython/.\n",
    "\n",
    "Il existe même un livre de Python complémentaire (en anglais) qui founi des explications du code, ainsi qu’un premier chapitre intitulé Python pour AI où ils donnent quelques notions de base sur Python. Voir https://artint.info/AIPython/aipython.pdf\n",
    "\n",
    "Le code ci-bas est inspiré du code dans le fichier *searchProblem.py*.  Vous n'avez pas besoin de retourner à ce code.  Tout ce dont vous avez besoin pour votre travail est dans le présent notebook.  J'ai modifié le code du livre, et je le présente ici, par petits bouts, pour permettre à tous (surtout ceux et celles moins familiers avec python) de parcourir le code petit à petit. "
   ]
  },
  {
   "cell_type": "markdown",
   "metadata": {},
   "source": [
    "***DEVOIR***:  \\\n",
    "Parcourir le notebook, cellule par cellule.  \n",
    "Lorsque vous voyez **(TO DO)**, faites les tâches demandées.  Lorsque vous avez terminé, soumettez votre notebook.  N'oubliez pas d'inscrire votre nom à la fin du Notebook, et aussi RENOMMER le fichier pour le personaliser NuméroEtudiant-NomFamille-Notebook-2.ipynb.\n",
    "\n",
    "*Le notebook sera noté sur 20 points.   \n",
    "Chaque **(TO DO)** montre le nombre de points associés.*\n",
    "***"
   ]
  },
  {
   "cell_type": "markdown",
   "metadata": {},
   "source": [
    "**1. Definition d'un graphe dirigé**  \n",
    "Un graphe dirigé est construit à partir de noeuds et d'arcs.  La classe ci-bas permet de définir des arcs qui relient deux noeuds.  Les deux premiers paramètres donnent les deux noeuds.  Les deux autres paramètres donnnent le coût d'un arc (par défaut mis à 1) et une action d'un arc (par défaut à None).  La méthode *init* est le constructeur.  La méthode *assert* permet de valider que le coût d'un arc ne peut être négatif."
   ]
  },
  {
   "cell_type": "code",
   "execution_count": null,
   "metadata": {},
   "outputs": [],
   "source": [
    "class Arc(object):\n",
    "    \"\"\"An arc has a from_node and a to_node node and a (non-negative) cost\"\"\"\n",
    "    \n",
    "    def __init__(self, from_node, to_node, cost=1, action=None):\n",
    "        assert cost >= 0, (\"Cost cannot be negative for\"+\n",
    "                           str(from_node)+\"->\"+str(to_node)+\", cost: \"+str(cost))\n",
    "        self.from_node = from_node\n",
    "        self.to_node = to_node\n",
    "        self.action = action\n",
    "        self.cost=cost\n",
    "\n",
    "    def __repr__(self):\n",
    "        \"\"\"string representation of an arc\"\"\"\n",
    "        if self.action:\n",
    "            return str(self.from_node)+\" --\"+str(self.action)+\"--> \"+str(self.to_node)\n",
    "        else:\n",
    "            return str(self.from_node)+\" --> \"+str(self.to_node)"
   ]
  },
  {
   "cell_type": "markdown",
   "metadata": {},
   "source": [
    "Voici un petit exemple de graphe dirigé acyclic (DAG -- Directed Acyclic Graph).\n",
    "![Image1](./Image1.png)"
   ]
  },
  {
   "cell_type": "markdown",
   "metadata": {},
   "source": [
    "Nous pouvons construire un DAG avec la classe Arc ci-haut définie."
   ]
  },
  {
   "cell_type": "code",
   "execution_count": null,
   "metadata": {},
   "outputs": [],
   "source": [
    "# Defining a small dag\n",
    "dag1 = [Arc('a','b'), Arc('b','c1'), Arc('c1','d'), Arc('b','c2'), Arc('c2','d')]"
   ]
  },
  {
   "cell_type": "code",
   "execution_count": null,
   "metadata": {},
   "outputs": [],
   "source": [
    "# print the dag\n",
    "print(dag1)"
   ]
  },
  {
   "cell_type": "markdown",
   "metadata": {},
   "source": [
    "Aucune classe ne définit un noeud.  Pour l'instant, nous supposons qu'un noeud est une chaîne de caractères (String)."
   ]
  },
  {
   "cell_type": "markdown",
   "metadata": {},
   "source": [
    "**2. Espace de recherche (search space)**  \n",
    "Plutôt que de définir un graphe par un ensemble d'arcs, nous pouvons définir plus formellement une classe représentant un espace de recherche qui contiendra non seulement une liste d'arcs, mais aussi une liste explicite de noeuds, un noeud initial, et un noeud final.  La classe contient aussi des méthodes pour obtenir de l'information sur les voisins d'un noeud, sur l'état d'un noeud (noeud final ou non).  La classe permet aussi de définir une fonction pour les heuristiques, ce que nous utiliserons plus tard."
   ]
  },
  {
   "cell_type": "code",
   "execution_count": null,
   "metadata": {},
   "outputs": [],
   "source": [
    "class Search_problem_from_explicit_graph():\n",
    "    \"\"\"A search problem consists of:\n",
    "    * a list or set of nodes\n",
    "    * a list or set of arcs\n",
    "    * a start node\n",
    "    * a list or set of goal nodes\n",
    "    * a dictionary that maps each node into its heuristic value.\n",
    "    \"\"\"\n",
    "\n",
    "    def __init__(self, nodes, arcs, start=None, goals=set(), hmap={}):\n",
    "        self.neighs = {}\n",
    "        self.nodes = nodes\n",
    "        for node in nodes:\n",
    "            self.neighs[node]=[]\n",
    "        self.arcs = arcs\n",
    "        for arc in arcs:\n",
    "            self.neighs[arc.from_node].append(arc)\n",
    "        self.start = start\n",
    "        self.goals = goals\n",
    "        self.hmap = hmap\n",
    "\n",
    "    def start_node(self):\n",
    "        \"\"\"returns start node\"\"\"\n",
    "        return self.start\n",
    "    \n",
    "    def is_goal(self,node):\n",
    "        \"\"\"is True if node is a goal\"\"\"\n",
    "        return node in self.goals\n",
    "\n",
    "    def neighbors(self,node):\n",
    "        \"\"\"returns the neighbors of node\"\"\"\n",
    "        return self.neighs[node]\n",
    "\n",
    "    def heuristic(self,node):\n",
    "        \"\"\"Gives the heuristic value of node n.\n",
    "        Returns 0 if not overridden in the hmap.\"\"\"\n",
    "        if node in self.hmap:\n",
    "            return self.hmap[node]\n",
    "        else:\n",
    "            return 0\n",
    "        \n",
    "    def __repr__(self):\n",
    "        \"\"\"returns a string representation of the search problem\"\"\"\n",
    "        res=\"\"\n",
    "        for arc in self.arcs:\n",
    "            res += str(arc)+\".  \"\n",
    "        return res\n",
    "\n",
    "    def neighbor_nodes(self,node):\n",
    "        \"\"\"returns an iterator over the neighbors of node\"\"\"\n",
    "        return (path.to_node for path in self.neighs[node])\n"
   ]
  },
  {
   "cell_type": "markdown",
   "metadata": {},
   "source": [
    "Ci-bas, un exemple d'un espace de recherche à représenter. Le problème vise à aller du noeud 'a' au noeud 'h' (en jaune ci-bas). La définition de l'espace est présentée en dessous de l'image.\n",
    "\n",
    "![Image2](./Image2.png)"
   ]
  },
  {
   "cell_type": "code",
   "execution_count": null,
   "metadata": {},
   "outputs": [],
   "source": [
    "# Defining a search space\n",
    "problemSimple = Search_problem_from_explicit_graph(\n",
    "    {'a','b','c','d','e', 'f', 'g', 'h', 'j'},\n",
    "    [Arc('a','b',1), Arc('a','c',1), Arc('b','d',1), Arc('b','e',1),\n",
    "     Arc('c','f',1), Arc('c', 'g'), Arc('d','h',1), Arc('e','h',1),\n",
    "     Arc('f', 'e', 1), Arc('f','j',1)],\n",
    "    start = 'a',\n",
    "    goals = {'h'})"
   ]
  },
  {
   "cell_type": "code",
   "execution_count": null,
   "metadata": {},
   "outputs": [],
   "source": [
    "# Print some informations\n",
    "print(problemSimple.neighbors('a'))"
   ]
  },
  {
   "cell_type": "markdown",
   "metadata": {},
   "source": [
    "**(TO DO) Question 1 (2 points)**  \n",
    "Afficher le noeud initial de l'espace *problemSimple*.  Tester si le noeud 'g' est son noeud final.  Passer au travers de tous les noeuds définis dans *problemSimple* pour trouver lequel est un noeud final."
   ]
  },
  {
   "cell_type": "code",
   "execution_count": null,
   "metadata": {},
   "outputs": [],
   "source": [
    "# RÉPONDEZ ICI - Q1\n",
    "# Print the start node. \n",
    "# \n",
    "# Test if node 'g' is a goal node. \n",
    "# \n",
    "# Go through the list of nodes to find which one is the goal.\n",
    "# "
   ]
  },
  {
   "cell_type": "markdown",
   "metadata": {},
   "source": [
    "**(TO DO) Question 2 (2 points)**  \n",
    "Compléter la définition de *problemTest* qui définit le graphe ci-bas. N'oubliez pas d'inscrire les coûts des arcs.\n",
    "\n",
    "![Image3](./Image3.png)"
   ]
  },
  {
   "cell_type": "code",
   "execution_count": null,
   "metadata": {},
   "outputs": [],
   "source": [
    "# RÉPONDEZ ICI - Q2\n",
    "# problemTest = Search_problem_from_explicit_graph(\n",
    "#    {'a', 'b', 'c', 'd', 'e', 'f', 'g', 'h', 'j', 'k', 'm'},\n",
    "#    .....\n",
    "#    .....\n",
    "#    )"
   ]
  },
  {
   "cell_type": "markdown",
   "metadata": {},
   "source": [
    "**3. Definition d'une solution comme un chemin.**  \n",
    "Une solution à un problème de recherche est un chemin, qui montre les noeuds visités pour se rendre du noeud initial au noeud final.  La classe ci-bas sert à définir un chemin. Pour l'instant, il faut voir qu'un chemin peut être un noeud (dans le cas du noeud initial) ou un chemin (définition récursive) suivi d'un arc. Ne vous inquiétez pas des détails d'implémentation.  Lorsque vos connaissances de python seront plus approfondies, vous comprendrez mieux."
   ]
  },
  {
   "cell_type": "code",
   "execution_count": null,
   "metadata": {},
   "outputs": [],
   "source": [
    "# class to represent a path\n",
    "class Path(object):\n",
    "    \"\"\"A path is either a node or a path followed by an arc\"\"\"\n",
    "    \n",
    "    def __init__(self,initial,arc=None):\n",
    "        \"\"\"initial is either a node (in which case arc is None) or\n",
    "        a path (in which case arc is an object of type Arc)\"\"\"\n",
    "        self.initial = initial\n",
    "        self.arc=arc\n",
    "        if arc is None:\n",
    "            self.cost=0\n",
    "        else:\n",
    "            self.cost = initial.cost+arc.cost\n",
    "\n",
    "    def end(self):\n",
    "        \"\"\"returns the node at the end of the path\"\"\"\n",
    "        if self.arc is None:\n",
    "            return self.initial\n",
    "        else:\n",
    "            return self.arc.to_node\n",
    "\n",
    "    def nodes(self):\n",
    "        \"\"\"enumerates the nodes for the path.\n",
    "        This starts at the end and enumerates nodes in the path backwards.\"\"\"\n",
    "        current = self\n",
    "        while current.arc is not None:\n",
    "            yield current.arc.to_node\n",
    "            current = current.initial\n",
    "        yield current.initial\n",
    "\n",
    "    def initial_nodes(self):\n",
    "        \"\"\"enumerates the nodes for the path before the end node.\n",
    "        This starts at the end and enumerates nodes in the path backwards.\"\"\"\n",
    "        if self.arc is not None:\n",
    "            for nd in self.initial.nodes(): yield nd     # could be \"yield from\"\n",
    "        \n",
    "    def __repr__(self):\n",
    "        \"\"\"returns a string representation of a path\"\"\"\n",
    "        if self.arc is None:\n",
    "            return str(self.initial)\n",
    "        elif self.arc.action:\n",
    "            return (str(self.initial)+\"\\n   --\"+str(self.arc.action)\n",
    "                    +\"--> \"+str(self.arc.to_node))\n",
    "        else:\n",
    "            return str(self.initial)+\" --> \"+str(self.arc.to_node)"
   ]
  },
  {
   "cell_type": "markdown",
   "metadata": {},
   "source": [
    "**4.  Definition d'un algorithme de recherche générique**  \n",
    "Nous définissons une classe abstraite qui représente un algorithme de recherche générique.  La stratégie de gestion de la frontière sera raffinée dans les diverses classes plus spécifiques."
   ]
  },
  {
   "cell_type": "code",
   "execution_count": null,
   "metadata": {
    "scrolled": true
   },
   "outputs": [],
   "source": [
    "class GenericSearcher():\n",
    "    \"\"\"returns a searcher for a problem.\n",
    "    Paths can be found by repeatedly calling search().\n",
    "    This does depth-first search unless overridden\n",
    "    \"\"\"\n",
    "    def __init__(self, problem):\n",
    "        \"\"\"creates a searcher from a problem\n",
    "        \"\"\"\n",
    "        self.problem = problem\n",
    "        self.initialize_frontier()\n",
    "\n",
    "    def initialize_frontier(self):\n",
    "        self.frontier = [Path(self.problem.start_node())]\n",
    "        \n",
    "    def empty_frontier(self):\n",
    "        return self.frontier == []\n",
    "       \n",
    "    ### change the add_to_frontier method --- THIS METHOD NEEDS TO BE IMPLEMENTED FOR DIFFERENT SEARCH STRATEGIES\n",
    "    def add_to_frontier(self,path):\n",
    "        raise NotImplementedError\n",
    "        \n",
    "    def search(self):\n",
    "        \"\"\"returns (next) path from the problem's start node\n",
    "        to a goal node. \n",
    "        Returns None if no path exists.\n",
    "        \"\"\"\n",
    "        \n",
    "        while not self.empty_frontier():\n",
    "            # The next node explored is selected\n",
    "            # It is implemented with a Pop, which actually removes from top of stack\n",
    "            path = self.frontier.pop()            \n",
    "            print(path)\n",
    "            if self.problem.is_goal(path.end()):    # solution found\n",
    "                self.solution = path                # store the solution found\n",
    "                return path\n",
    "            else:\n",
    "                neighs = self.problem.neighbors(path.end())\n",
    "                for arc in neighs: # Loop over neighbors arcs\n",
    "                    self.add_to_frontier(Path(path,arc))              "
   ]
  },
  {
   "cell_type": "markdown",
   "metadata": {},
   "source": [
    "**5. Implémentation des recherches aveugles.**  \n",
    "En modifiant la méthode *add_to_frontier* de la recherche générique, nous pourrons implémenter les trois types de recherche aveugle vus en classe.  La recherche en profondeur, en largeur, et de moindre coût.  La recherche en largeur est implémentée ci-bas, et vous devrez implémenter les deux autres types de recherche aveugle. "
   ]
  },
  {
   "cell_type": "code",
   "execution_count": null,
   "metadata": {},
   "outputs": [],
   "source": [
    "# (CB) extend the generic searcher to be a Breadth-first searcher.\n",
    "class BreadthFirstSearcher(GenericSearcher):\n",
    "\n",
    "    def __init__(self, problem):   \n",
    "        super().__init__(problem)\n",
    "\n",
    "    def add_to_frontier(self,path):\n",
    "        # breadth\n",
    "        self.frontier.insert(0,path)        # HERE, I insert in position 0 (bottom of stack), knowing that I want a FIFO"
   ]
  },
  {
   "cell_type": "code",
   "execution_count": null,
   "metadata": {},
   "outputs": [],
   "source": [
    "# Test breadth-first searcher\n",
    "searcherBreadth = BreadthFirstSearcher(problemTest)  \n",
    "print(\"Exploring nodes:\")\n",
    "foundPath = searcherBreadth.search();\n",
    "print('Path found: {} with a cost of {}'.format(foundPath, foundPath.cost))"
   ]
  },
  {
   "cell_type": "markdown",
   "metadata": {},
   "source": [
    "**(TO DO) Question 3 (2 points)**  \n",
    "Modifier la méthode *add_fo_frontier* pour obtenir une recherche en profondeur.  Tester votre implémentation. "
   ]
  },
  {
   "cell_type": "code",
   "execution_count": null,
   "metadata": {},
   "outputs": [],
   "source": [
    "# RÉPONDEZ ICI - Q3 - (UNE SEULE LIGNE A ÉCRIRE) (1 point)\n",
    "# Depth-first searcher\n",
    "class DepthFirstSearcher(GenericSearcher):\n",
    "    def __init__(self, problem):   \n",
    "        super().__init__(problem)\n",
    "\n",
    "    def add_to_frontier(self,path):\n",
    "        # depth - put code here\n",
    "        # ..."
   ]
  },
  {
   "cell_type": "code",
   "execution_count": null,
   "metadata": {},
   "outputs": [],
   "source": [
    "# RÉPONDEZ ICI - Q3 - Part 2 (Test implementation) (1 point)\n",
    "# Test\n",
    "searcherDepth = ...\n",
    "print(\"Exploring nodes:\")\n",
    "foundPath = ...\n",
    "print('Path found: {} with a cost of {}'.format(foundPath, foundPath.cost))"
   ]
  },
  {
   "cell_type": "markdown",
   "metadata": {},
   "source": [
    "**(TO DO) Question 4 (4 points)**  \n",
    "Modifier la méthode *add_fo_frontier* pour obtenir une recherche de moindre coût.  Tester votre implémentation. "
   ]
  },
  {
   "cell_type": "code",
   "execution_count": null,
   "metadata": {},
   "outputs": [],
   "source": [
    "# RÉPONDEZ ICI - Q4 - Part 1 (More complex, must sort so lowest-cost would be the one use in the \"pop\") (3 points)\n",
    "# Lowest Cost searcher\n",
    "class LowCostSearcher(GenericSearcher):\n",
    "    def __init__(self, problem):   \n",
    "        super().__init__(problem)\n",
    "\n",
    "    def add_to_frontier(self,path):\n",
    "        # Need to insert path p onto the frontier so the cost order is kept\n",
    "        # low-cost search  - put code here..."
   ]
  },
  {
   "cell_type": "code",
   "execution_count": null,
   "metadata": {
    "scrolled": true
   },
   "outputs": [],
   "source": [
    "# RÉPONDEZ ICI - Q4 - Part 2 (Test implementation) (1 point)\n",
    "# Test\n",
    "searcherLowCost = ...  \n",
    "print(\"Exploring nodes:\")\n",
    "foundPath = ...\n",
    "print('Path found: {} with a cost of {}'.format(foundPath, foundPath.cost))"
   ]
  },
  {
   "cell_type": "markdown",
   "metadata": {},
   "source": [
    "**6. Recherche heuristique**  \n",
    "Nous avons vu trois types de recherche heuristique en classe: locale (greedy), meilleur-chemin d'abord, et A\\*. Les algorithmes meilleur-chemin d'abord et A\\* sont des algorithmes d'heuristique globale.  Nous nous concentrons sur celles-ci.  Tout comme les recherches aveugles, nous pouvons les implémenter en modifiant la méthodes add_to_frontier de la recherche générique.\n",
    "\n",
    "Dans ce notebook, pour obtenir l'heuristique d'un nœud, vous devez appeler la fonction self.problem.heuristic (...) où vous passez le nœud pour lequel vous voulez l'heuristique. "
   ]
  },
  {
   "cell_type": "markdown",
   "metadata": {},
   "source": [
    "Supposons que la fonction heuristique donne une distance optimiste de chaque noeud au noeud 'l'.  Ces distances sont encodées dans un dictionnaire appelé *hmap*, dans la définition ci-bas, qui est une extension au problemTest définit précédemment."
   ]
  },
  {
   "cell_type": "code",
   "execution_count": null,
   "metadata": {},
   "outputs": [],
   "source": [
    "problemTestWithHeuristics = Search_problem_from_explicit_graph(\n",
    "    {'a','b','c','d','e', 'f', 'g', 'h', 'j', 'k', 'l'},\n",
    "    [Arc('a','b', 6), Arc('a','c', 5), Arc('a','d', 4), \n",
    "     Arc('b','e', 2), Arc('b','f', 4),\n",
    "     Arc('e','h', 5), Arc('h','j', 8), Arc('j','l', 5),\n",
    "     Arc('f','k', 12), Arc('k','l', 6),\n",
    "     Arc('c','g', 3), Arc('g','k', 7),\n",
    "     Arc('d','g', 6)],\n",
    "    start = 'a',\n",
    "    goals = {'l'},\n",
    "     hmap = {'a':20, 'b':12, 'c':15, 'd':14, 'e':9, 'f':13, 'g':10, 'h':11, 'j':5, 'k':6})"
   ]
  },
  {
   "cell_type": "markdown",
   "metadata": {},
   "source": [
    "**(TO DO) Question 5 - 4 points** <br> \n",
    "Vous devez implémenter et tester l'algorithme A\\*."
   ]
  },
  {
   "cell_type": "code",
   "execution_count": null,
   "metadata": {},
   "outputs": [],
   "source": [
    "# RÉPONDEZ ICI - Q5 - Part 1 (3 points)\n",
    "# A* searcher\n",
    "class AStarSearcher(GenericSearcher):\n",
    "    \"\"\"returns a searcher for a problem.\n",
    "    Paths can be found by repeatedly calling search().\n",
    "    \"\"\"\n",
    "    def __init__(self, problem):   \n",
    "        super().__init__(problem)\n",
    "\n",
    "    def getCostKey(self, path):\n",
    "        return ...\n",
    "    \n",
    "    def add_to_frontier(self,path):\n",
    "        \"\"\"add path to the frontier with the appropriate cost\"\"\"\n",
    "        # add path to the frontier \n",
    "        ...\n",
    "        # sort frontier so that all the elements are ordered from most costly to least costly\n",
    "        self.frontier.sort(key=self.getCostKey, reverse=True)"
   ]
  },
  {
   "cell_type": "code",
   "execution_count": null,
   "metadata": {},
   "outputs": [],
   "source": [
    "# RÉPONDEZ ICI - Q5 - Part 2 (1 point)\n",
    "# Test\n",
    "..."
   ]
  },
  {
   "cell_type": "markdown",
   "metadata": {},
   "source": [
    "**(TO DO) Question 6 - 5 points** <br> \n",
    "Vous devez implémenter et tester l'algorithme du meilleur chemin d'abord best-first search."
   ]
  },
  {
   "cell_type": "code",
   "execution_count": null,
   "metadata": {},
   "outputs": [],
   "source": [
    "# RÉPONDEZ ICI - Q6 - Part 1 (3 points)\n",
    "# Best first searcher\n",
    "class BestFirstSearcher(GenericSearcher):\n",
    "    \"\"\"returns a searcher for a problem.\n",
    "    Paths can be found by repeatedly calling search().\n",
    "    \"\"\""
   ]
  },
  {
   "cell_type": "code",
   "execution_count": null,
   "metadata": {},
   "outputs": [],
   "source": [
    "# RÉPONDEZ ICI - Q6 - Part 1 (1 point)\n",
    "# Test\n",
    "..."
   ]
  },
  {
   "cell_type": "markdown",
   "metadata": {},
   "source": [
    "**(TO DO) Q7 - 2 points**\\\n",
    "Maintenant que vous avez implémenté 5 algorithmes (3 recherches aveugles + 2 recherches heuristique), discutez \\\n",
    "(a) entre les algorithmes profondeur d'abord et largeur d'abord, lequel a mieux performé (en terme de trouver le chemin de plus faible coût, et en terme de nombre de noeuds explorés) et est-ce que le résultat obtenu était aussi bas que l'algorithme \"plus-petit-coût-d'abord\"? et \\\n",
    "(b) parmi les 2 algorithmes de recherche heuristique, lequel a mieux performé (en terme de trouver le chemin de plus faible coût)?"
   ]
  },
  {
   "cell_type": "markdown",
   "metadata": {},
   "source": [
    "RÉPONDEZ ICI - Q7   \n",
    "(a)\n",
    "\n",
    "(b)"
   ]
  },
  {
   "cell_type": "markdown",
   "metadata": {},
   "source": [
    "***SIGNATURE:***\n",
    "Mon nom est --------------------------.\n",
    "Mon numéro d'étudiant(e) est -----------------.\n",
    "Je certifie que je suis l'auteur(e) de ce devoir."
   ]
  }
 ],
 "metadata": {
  "kernelspec": {
   "display_name": "Python 3 (ipykernel)",
   "language": "python",
   "name": "python3"
  },
  "language_info": {
   "codemirror_mode": {
    "name": "ipython",
    "version": 3
   },
   "file_extension": ".py",
   "mimetype": "text/x-python",
   "name": "python",
   "nbconvert_exporter": "python",
   "pygments_lexer": "ipython3",
   "version": "3.7.3"
  }
 },
 "nbformat": 4,
 "nbformat_minor": 2
}
