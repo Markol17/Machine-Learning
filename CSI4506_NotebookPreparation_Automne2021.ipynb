{
 "cells": [
  {
   "cell_type": "markdown",
   "metadata": {},
   "source": [
    "# Notebook 0 - Introduction à Jupyter Notebook"
   ]
  },
  {
   "cell_type": "markdown",
   "metadata": {},
   "source": [
    "### CSI4506 Introduction à l'Intelligence Artificielle\n",
    "#### Automne 2021  \n",
    "Preparé par Julian Templeton et Joel Muteba (2020), révisé par Caroline Barrière (2021)"
   ]
  },
  {
   "attachments": {},
   "cell_type": "markdown",
   "metadata": {},
   "source": [
    "***INTRODUCTION***:   \n",
    "Dans ce notebook d'introduction, nous allons simplement parcourir du code de base pour tester votre installation et en apprendre d'avantage sur la structure d'un notebook Jupyter.\n",
    "\n",
    "Dans les futurs notebooks, vous devrez peut-être installer certaines bibliothèques. Les instructions pour cela seront fournies dans le notebook et nécessiteront simplement une commande pip à utiliser dans votre ligne de commande. Certains futurs notebooks nécessiteront l'accès à des fichiers externes (images, data), et ceux-ci seront disponibles sur Brightspace pour le téléchargement."
   ]
  },
  {
   "cell_type": "markdown",
   "metadata": {},
   "source": [
    "***TRAVAIL A FAIRE***:  \n",
    "Parcourez le notebook en exécutant chaque cellule, une à la fois. Même si vous voyez déjà une sortie, assurez-vous d'exécuter la cellule pour régénérer la sortie.\n",
    "\n",
    "Dans les futurs notebooks, il y aura des balises **(TO DO)** pour les tâches que vous devez effectuer.\n",
    "\n",
    "*Ce notebook ne sera pas noté et n'a pas besoin d'être soumis.*\n",
    "***"
   ]
  },
  {
   "cell_type": "markdown",
   "metadata": {},
   "source": [
    "**1. Hello world.**  \n",
    "Pour commencer, testez votre environnement en exécutant la cellule ci-dessous. Vous pouvez exécuter la cellule en cliquant sur le bouton *Run* dans la barre d'outils ci-dessus ou en appuyant sur *Maj + Entrée*."
   ]
  },
  {
   "cell_type": "code",
   "execution_count": null,
   "metadata": {},
   "outputs": [],
   "source": [
    "# Impression d'un Hello world pour tester si l'environnement fonctionne.\n",
    "print(\"Hello world!\")"
   ]
  },
  {
   "cell_type": "markdown",
   "metadata": {},
   "source": [
    "**2. Exécuter des modules.**  \n",
    "Comme vu au point 1, nous pouvons exécuter des cellules individuellement. Il existe de nombreuses options dans la barre d'outils ci-dessus, comme le redémarrage du noyau (kernel) et l'exécution de toutes les cellules.  Vous pouvez explorer les options pour comprendre ce qui peut vous être utile lors de l'exécution des notebooks.\n",
    "\n",
    "Un autre concept important est que les cellules dépendent les unes des autres. Par exemple, si nous définissons une fonction dans une cellule, cette cellule (ou plus précisément la fonction qui est définie) doit être exécutée avant de pouvoir être appelée. Aussi, après une modification d'une cellule, cette cellule doit être réexécutée pour que la mise à jour prenne effet. Cela peut être vu ci-dessous."
   ]
  },
  {
   "cell_type": "code",
   "execution_count": null,
   "metadata": {},
   "outputs": [],
   "source": [
    "def add_ok(num1, num2):\n",
    "    '''\n",
    "    Retourne l'addition de num1 et num2\n",
    "    '''\n",
    "    return num1 + num2"
   ]
  },
  {
   "cell_type": "code",
   "execution_count": null,
   "metadata": {},
   "outputs": [],
   "source": [
    "# Add 1 and 3\n",
    "print(\"1 + 3 =\", add_ok(1, 3))"
   ]
  },
  {
   "cell_type": "markdown",
   "metadata": {},
   "source": [
    "S'il y a une erreur, elle sera affichée dans la cellule de sortie"
   ]
  },
  {
   "cell_type": "code",
   "execution_count": null,
   "metadata": {},
   "outputs": [],
   "source": [
    "def add_erreur():\n",
    "    '''\n",
    "    Nous aurons une erreur ici puisque num1 et num2 n'existent pas\n",
    "    '''\n",
    "    return num1 + num2"
   ]
  },
  {
   "cell_type": "code",
   "execution_count": null,
   "metadata": {},
   "outputs": [],
   "source": [
    "# On appelle la fonction qui va causer une erreur\n",
    "print(\"1 + 3 =\", add_erreur())"
   ]
  },
  {
   "cell_type": "markdown",
   "metadata": {},
   "source": [
    "Enfin, si vous devez modifier le contenu d'une cellule Markdown (comme celle-ci contenant du texte), vous pouvez double-cliquer dessus et effectuer les modifications. Vous pouvez ensuite exécuter la cellule pour que le texte apparaisse correctement."
   ]
  },
  {
   "cell_type": "markdown",
   "metadata": {},
   "source": [
    "**3. À vous d'explorer.**  \n",
    "Ce qui précède couvre les principaux points à comprendre sur l'environnement. Mais si vous voulez essayer quelque chose, n'hésitez pas à tester du code ci-dessous."
   ]
  },
  {
   "cell_type": "code",
   "execution_count": null,
   "metadata": {},
   "outputs": [],
   "source": [
    "# TODO: ce qui vous passe par la tête\n",
    "..."
   ]
  },
  {
   "cell_type": "markdown",
   "metadata": {},
   "source": [
    "**4. Sauvegarde.**  \n",
    "Pour les prochains notebooks, n'oubliez pas de sauvegarder votre notebook avec le nom suivant:\n",
    "*NuméroEtudiant-NomFamille-Notebook-X.ipynb*, X étant le numéro du Notebook (option Save As - dans le menu File) avant de le soumettre.  Les correcteurs passeront au travers de vos notebooks pour les tester et les noter."
   ]
  },
  {
   "cell_type": "code",
   "execution_count": null,
   "metadata": {},
   "outputs": [],
   "source": []
  }
 ],
 "metadata": {
  "kernelspec": {
   "display_name": "Python 3",
   "language": "python",
   "name": "python3"
  },
  "language_info": {
   "codemirror_mode": {
    "name": "ipython",
    "version": 3
   },
   "file_extension": ".py",
   "mimetype": "text/x-python",
   "name": "python",
   "nbconvert_exporter": "python",
   "pygments_lexer": "ipython3",
   "version": "3.8.3"
  }
 },
 "nbformat": 4,
 "nbformat_minor": 2
}
